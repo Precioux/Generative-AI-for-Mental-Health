{
 "cells": [
  {
   "cell_type": "markdown",
   "metadata": {
    "id": "FwHxV0Kkc1PC"
   },
   "source": [
    "# Mexa"
   ]
  },
  {
   "cell_type": "markdown",
   "metadata": {
    "id": "J8HzBIF8d8Y1"
   },
   "source": [
    "### Data processing"
   ]
  },
  {
   "cell_type": "code",
   "execution_count": 1,
   "metadata": {
    "colab": {
     "base_uri": "https://localhost:8080/"
    },
    "id": "Imhe2koZdIQ7",
    "outputId": "3638f58b-e96f-4cbc-dad4-983c6c42c293"
   },
   "outputs": [
    {
     "name": "stdout",
     "output_type": "stream",
     "text": [
      "Mounted at /content/drive\n"
     ]
    }
   ],
   "source": [
    "from google.colab import drive\n",
    "from google.colab import auth\n",
    "auth.authenticate_user()\n",
    "drive.mount('/content/drive')\n"
   ]
  },
  {
   "cell_type": "code",
   "execution_count": null,
   "metadata": {
    "id": "1jDzbFz2gOGQ"
   },
   "outputs": [],
   "source": [
    "ls"
   ]
  },
  {
   "cell_type": "code",
   "execution_count": 2,
   "metadata": {
    "colab": {
     "base_uri": "https://localhost:8080/"
    },
    "id": "vD64qVyfdIFt",
    "outputId": "0b1db0a7-af09-47b7-d397-dbc2a1cbd980"
   },
   "outputs": [
    {
     "name": "stdout",
     "output_type": "stream",
     "text": [
      "Background: The patient is a male artist in his 30s presenting for evaluation of ADHD. He took an ADHD screening questionnaire online out of curiosity. He decided to seek treatment on his own because of a vague sense that work and personal life are not going well. He has completed a second questionnaire to assess ADHD symptoms as part of the psychiatrist’s required intake paperwork.\n",
      "\n",
      "Psychiatrist: Now I’m going to ask about some of your symptoms related to ADHD. Some of these questions sound kind of similar but they point to different aspects of inattention and hyperactivity. Tell me if you think you have the symptom and then tell me about when the symptom began. Then, we’ll get into what the consequences have been for each symptom over the course of your lifetime.\n",
      "\n",
      "Patient: Sure.\n",
      "\n",
      "Psychiatrist: Do you feel like you struggle with attention to details compared to other people?\n",
      "\n",
      "Patient: Oh yeah haha that has been my whole life…\n",
      "\n",
      "Psychiatrist: What was your earliest memory of this issue?\n",
      "\n",
      "Patient: I guess probably third grade.\n",
      "\n",
      "Psychiatrist: What was happening then?\n",
      "\n",
      "Patient: I kept making mistakes on my math homework.\n",
      "\n",
      "Psychiatrist: Did these culminate in any consequences for you?\n",
      "\n",
      "Patient: My parents had to hire a tutor.\n",
      "\n",
      "Psychiatrist: How was this discussed by the family?\n",
      "\n",
      "Patient: I mean… my mom and dad were frustrated with me.\n",
      "\n",
      "Psychiatrist: Was your attention to detail an issue at home too?\n",
      "\n",
      "Patient: I guess when I’d do chores like clean my room I’d do a bad job and then sometimes they would make me go back and do it again.\n",
      "\n",
      "Psychiatrist: What about over the years? Has the problem continued?\n",
      "\n",
      "Patient: I had to drop three classes in college and eventually change my major. I didn’t want to study math or foreign language. So I got into visual art and design.\n",
      "\n",
      "Psychiatrist: Did the symptom follow you into your career? Or your relationships?\n",
      "\n",
      "Patient: I make commissioned projects but I have a lot of autonomy in how they come out. People know how my art looks and they kind of want things to look that way. So they give me a few details but not many and then I kind of let the project go where it goes. I guess I misspell things in emails.\n",
      "\n",
      "Psychiatrist: And your relationships?\n",
      "\n",
      "Patient: I’ve had friendships end because I couldn’t remember peoples’ birthdays.\n",
      "\n",
      "Psychiatrist: We’ll talk about forgetfulness in a moment. Right now we’re talking about what you notice or don’t notice causing issues in your life. \n",
      "\n",
      "Patient: I’d have to think about it more… I don’t know.\n",
      "\n",
      "Psychiatrist: All right. Let’s talk about your ability to focus. Are you able to focus your attention when you need to?\n",
      "\n",
      "Patient: I get distracted like all the time.\n",
      "\n",
      "Psychiatrist: We will talk about distractibility separately. I know this feels like a similar problem, but what I’m wondering is essentially, when you’re supposed to be paying attention it gets difficult. Maybe you notice feeling strained.\n",
      "\n",
      "Patient: Oh yeah, I couldn’t focus to save my life.\n",
      "\n",
      "Psychiatrist: When did you first notice that?\n",
      "\n",
      "Patient: I guess in college. When I was taking classes that I ended up having to drop.\n",
      "\n",
      "Psychiatrist: Did you have the symptom in childhood?\n",
      "\n",
      "Patient: I don’t know. Probably…\n",
      "\n",
      "Psychiatrist: Does anything come to mind?\n",
      "\n",
      "Patient: I’d have to think about it more. \n",
      "\n",
      "Psychiatrist: What about after college? In your career or relationships?\n",
      "\n",
      "Patient: I work discontinuously. I have a schedule where I start working in the morning making visual art and I kind of work until I get bored then I stop. I guess I get behind submitting my projects to galleries. I don’t know about my relationships.\n",
      "\n",
      "Psychiatrist: Are you able to sustain focus on other things? Like movies? Or outdoor activities?\n",
      "Patient: Sometimes. I have to stop movies halfway through a lot.\n",
      "\n",
      "Psychiatrist: What about when people are speaking to you directly? Does anyone ever say you don’t listen to them?\n",
      "\n",
      "Patient: My parents have been saying that to me my whole life. \n",
      "\n",
      "Psychiatrist: When do you remember it starting?\n",
      "\n",
      "Patient: I definitely remember my parents saying that. I’m not sure what it was about.\n",
      "\n",
      "Psychiatrist: Did it cause any problems in school?\n",
      "\n",
      "Patient: I think so but I can’t point to anything for sure.\n",
      "\n",
      "Psychiatrist: What about in your relationships?\n",
      "\n",
      "Patient: I’ve had girlfriends break up with me because they thought I was too wrapped up in my career. They’ve said I was unavailable.\n",
      "\n",
      "Psychiatrist: Was there anything you missed because you were a poor listener?\n",
      "\n",
      "Patient: Yes.\n",
      "\n",
      "Psychiatrist: Like what?\n",
      "\n",
      "Patient: I didn’t remember one girlfriend’s plans. I was supposed to join her for a banquet but apparently I forgot. It was like we had never even spoken about it. She swore she told me. But I planned a trip I didn’t want to cancel.\n",
      "\n",
      "Psychiatrist: What about starting and completing tasks? Are you able to kind of get started and then follow through on things?\n",
      "\n",
      "Patient: I have developed some systems of reminders over the years to help me get through my projects at work but this is why. Yes. It has been a real problem.\n",
      "\n",
      "Psychiatrist: When did it start?\n",
      "Patient: Definitely when I was a kid. Maybe in middle school when assignments started to get more complicated. I’d misread instructions and write a paper that was somehow off topic. \n",
      "\n",
      "Psychiatrist: What about at home? Did you get sidetracked there too?\n",
      "\n",
      "Patient: One time my parents sent me to the grocery store and I came back home with half of the grocery list missing. They stopped sending me to pick things up for them.\n",
      "\n",
      "Psychiatrist: They felt like they couldn’t trust you to see things through.\n",
      "\n",
      "Patient: Yeah…\n",
      "\n",
      "Psychiatrist: You mentioned systems to keep you on task. Why do you need them?\n",
      "\n",
      "Patient: If I’m not careful I could start making a project and never finish because here I’ve started another project and have gotten more interested in the new thing than the old one. I have a few projects that I never could finish and maybe I’ll pick them back up when I have time. My current girlfriend likes to joke that our home is in shambles because of all the remodeling projects we have going on. I start a new project before finishing the old one.\n",
      "\n",
      "Psychiatrist: What about your organizational abilities?\n",
      "\n",
      "Patient: Well I have systems now. I have a calendar and a system of reminders that I put into effect. It prompts me a couple times a day with the day’s goal and the project deadline. But I have to put everything into the calendar. It’s like, if it isn’t in the calendar it doesn’t happen. It definitely played a role in me changing majors in college.\n",
      "\n",
      "Psychiatrist: When did that start to become an issue?\n",
      "\n",
      "Patient: As soon as we started getting homework in school. Maybe second or third grade. Definitely by the time the science fair was a thing. I couldn’t straighten out what I wanted to do or what I needed to do to get it done. And when I had writing assignments like essays I’d just get started and wouldn’t kind of keep track of where I wanted things to go so there would be undeveloped ideas or loose ends.\n",
      "\n",
      "Psychiatrist: Did your parents say anything about it at home?\n",
      "\n",
      "Patient: Maybe when I’d try to go to school and I’d forget my books at home or I’d lose my key to get inside.\n",
      "\n",
      "Psychiatrist: We’ll talk about your forgetfulness and the things you’ve lost in just a bit. Did your parents feel like you did things out of order?\n",
      "\n",
      "Patient: They joked that I’d mop the floor before sweeping up all the dirt. That I was sweeping with the mop. Or when I tried baking a cake once I did some of the steps out of order and it turned out terrible. My mom had to step in and help. I avoid cooking to this day because I hate making a list of what I need, doing the shopping, doing the prep work, doing the cooking, and then doing the cleaning afterwards. I’ll cook but not clean. Then I’ve got dirty dishes next time I want to cook. I spend a lot of money eating out haha.\n",
      "\n",
      "Psychiatrist: That brings me to my next point. Are there things you avoid because the effort just doesn’t seem possible?\n",
      "\n",
      "Patient: When I was a kid I wanted to be an astronaut but it seemed like too much work. I learned in college that there was no way I’d become an engineer because I couldn’t handle the math classes.\n",
      "\n",
      "Psychiatrist: When did you first feel like things were too much work?\n",
      "\n",
      "Patient: I quit my first job working at a sandwich shop because I didn’t want to count money and give people change.\n",
      "\n",
      "Psychiatrist: Anything before then? \n",
      "\n",
      "Patient: Well… I was held back in third grade. Because I put my head down and stopped doing the work my teacher asked me to do.\n",
      "\n",
      "Psychiatrist: Goodness, I’m sorry. That must have felt overwhelming.\n",
      "\n",
      "Patient: It was at the time. But it’s all right now.\n",
      "\n",
      "Psychiatrist: Tell me more about the things you’ve lost over the years. Like physical things.\n",
      "\n",
      "Patient: Jeez. Homework assignments. Action figures. Video games. Magazines. Car keys. I’ve had to pay pop a lock to come get me in my home at least three times. I’ve had to have doors re-keyed at old apartments because we didn’t know where the keys ended up. I’ve lost two phones. One was brand new. I can’t keep air pods around so I have to buy a couple sets at a time. I just let a pair go through the washing machine. If I didn’t have an accountant I don’t know what I would do in a tax audit.\n",
      "\n",
      "Psychiatrist: Some big losses there. You mentioned getting distracted earlier?\n",
      "\n",
      "Patient: Oh totally.\n",
      "\n",
      "Psychiatrist: What kinds of things distract you?\n",
      "\n",
      "Patient: Light and sound. I have to work in a quiet place. A little ambient noise is fine. But I couldn’t ever study in the library in college. And it took years but I learned I couldn’t have music or the TV on while I was studying.\n",
      "\n",
      "Psychiatrist: What about in childhood?\n",
      "\n",
      "Patient: I would always stare out the window in school. Or when we did group projects I’d get us off topic by goofing off with my friends. We couldn’t even sit by each other or we’d get in trouble. The teacher was always calling my mom to let her know.\n",
      "\n",
      "Psychiatrist: What would you say has been the biggest consequence of your distractibility?\n",
      "\n",
      "Patient: Hm… I’m not real sure. There has been a lot. I kind of had to choose a life where I could be distracted without big consequences.\n",
      "\n",
      "Psychiatrist: I see. And what about your forgetfulness in general?\n",
      "\n",
      "Patient: I’ve always been forgetful. \n",
      "\n",
      "Psychiatrist: What’s the first thing you remember?\n",
      "\n",
      "Patient: Probably the homework or bringing things to school. I’d get bad grades for not turning things in. Or be “home at this time” and I’d forget. My parents would remind me over and over. I could tell they were getting pissed off at me. They still remind me about things when I call them and it makes me not want to talk to them on the phone.\n",
      "\n",
      "Psychiatrist: It has kind of colored that relationship in a way.\n",
      "\n",
      "Patient: For sure. I’m always reminded that I’m a person who needs reminders. I wish they’d treat me like a grown up.\n",
      "\n",
      "Psychiatrist: You mentioned your other relationships being affected earlier.\n",
      "\n",
      "Patient: Yeah. I’d forget friends birthdays. I’d forget plans I’d made. Girlfriends have left me and friends have stopped returning my calls.\n",
      "\n"
     ]
    }
   ],
   "source": [
    "file_path = '/content/drive/MyDrive/Mexa/transcript.txt'  # Updated path to text file\n",
    "\n",
    "with open(file_path, 'r') as f:\n",
    "  transcript_text = f.read()\n",
    "\n",
    "print(transcript_text)"
   ]
  },
  {
   "cell_type": "markdown",
   "metadata": {
    "id": "tN6irjHLhy0Y"
   },
   "source": [
    "#### Converting to Python Readable Format"
   ]
  },
  {
   "cell_type": "code",
   "execution_count": 4,
   "metadata": {
    "colab": {
     "base_uri": "https://localhost:8080/"
    },
    "id": "D1XsNG9wdH9Y",
    "outputId": "eef951c8-125d-41b8-aeb6-47ae7df8bdbc"
   },
   "outputs": [
    {
     "name": "stdout",
     "output_type": "stream",
     "text": [
      "Psychiatrist: Now I’m going to ask about some of your symptoms related to ADHD. Some of these questions sound kind of similar but they point to different aspects of inattention and hyperactivity. Tell me if you think you have the symptom and then tell me about when the symptom began. Then, we’ll get into what the consequences have been for each symptom over the course of your lifetime.\n",
      "Patient: Sure.\n",
      "Psychiatrist: Do you feel like you struggle with attention to details compared to other people?\n",
      "Patient: Oh yeah haha that has been my whole life…\n",
      "Psychiatrist: What was your earliest memory of this issue?\n",
      "Patient: I guess probably third grade.\n",
      "Psychiatrist: What was happening then?\n",
      "Patient: I kept making mistakes on my math homework.\n",
      "Psychiatrist: Did these culminate in any consequences for you?\n",
      "Patient: My parents had to hire a tutor.\n",
      "Psychiatrist: How was this discussed by the family?\n",
      "Patient: I mean… my mom and dad were frustrated with me.\n",
      "Psychiatrist: Was your attention to detail an issue at home too?\n",
      "Patient: I guess when I’d do chores like clean my room I’d do a bad job and then sometimes they would make me go back and do it again.\n",
      "Psychiatrist: What about over the years? Has the problem continued?\n",
      "Patient: I had to drop three classes in college and eventually change my major. I didn’t want to study math or foreign language. So I got into visual art and design.\n",
      "Psychiatrist: Did the symptom follow you into your career? Or your relationships?\n",
      "Patient: I make commissioned projects but I have a lot of autonomy in how they come out. People know how my art looks and they kind of want things to look that way. So they give me a few details but not many and then I kind of let the project go where it goes. I guess I misspell things in emails.\n",
      "Psychiatrist: And your relationships?\n",
      "Patient: I’ve had friendships end because I couldn’t remember peoples’ birthdays.\n",
      "Psychiatrist: We’ll talk about forgetfulness in a moment. Right now we’re talking about what you notice or don’t notice causing issues in your life.\n",
      "Patient: I’d have to think about it more… I don’t know.\n",
      "Psychiatrist: All right. Let’s talk about your ability to focus. Are you able to focus your attention when you need to?\n",
      "Patient: I get distracted like all the time.\n",
      "Psychiatrist: We will talk about distractibility separately. I know this feels like a similar problem, but what I’m wondering is essentially, when you’re supposed to be paying attention it gets difficult. Maybe you notice feeling strained.\n",
      "Patient: Oh yeah, I couldn’t focus to save my life.\n",
      "Psychiatrist: When did you first notice that?\n",
      "Patient: I guess in college. When I was taking classes that I ended up having to drop.\n",
      "Psychiatrist: Did you have the symptom in childhood?\n",
      "Patient: I don’t know. Probably…\n",
      "Psychiatrist: Does anything come to mind?\n",
      "Patient: I’d have to think about it more.\n",
      "Psychiatrist: What about after college? In your career or relationships?\n",
      "Patient: I work discontinuously. I have a schedule where I start working in the morning making visual art and I kind of work until I get bored then I stop. I guess I get behind submitting my projects to galleries. I don’t know about my relationships.\n",
      "Psychiatrist: Are you able to sustain focus on other things? Like movies? Or outdoor activities?\n",
      "Patient: Sometimes. I have to stop movies halfway through a lot.\n",
      "Psychiatrist: What about when people are speaking to you directly? Does anyone ever say you don’t listen to them?\n",
      "Patient: My parents have been saying that to me my whole life.\n",
      "Psychiatrist: When do you remember it starting?\n",
      "Patient: I definitely remember my parents saying that. I’m not sure what it was about.\n",
      "Psychiatrist: Did it cause any problems in school?\n",
      "Patient: I think so but I can’t point to anything for sure.\n",
      "Psychiatrist: What about in your relationships?\n",
      "Patient: I’ve had girlfriends break up with me because they thought I was too wrapped up in my career. They’ve said I was unavailable.\n",
      "Psychiatrist: Was there anything you missed because you were a poor listener?\n",
      "Patient: Yes.\n",
      "Psychiatrist: Like what?\n",
      "Patient: I didn’t remember one girlfriend’s plans. I was supposed to join her for a banquet but apparently I forgot. It was like we had never even spoken about it. She swore she told me. But I planned a trip I didn’t want to cancel.\n",
      "Psychiatrist: What about starting and completing tasks? Are you able to kind of get started and then follow through on things?\n",
      "Patient: I have developed some systems of reminders over the years to help me get through my projects at work but this is why. Yes. It has been a real problem.\n",
      "Psychiatrist: When did it start?\n",
      "Patient: Definitely when I was a kid. Maybe in middle school when assignments started to get more complicated. I’d misread instructions and write a paper that was somehow off topic.\n",
      "Psychiatrist: What about at home? Did you get sidetracked there too?\n",
      "Patient: One time my parents sent me to the grocery store and I came back home with half of the grocery list missing. They stopped sending me to pick things up for them.\n",
      "Psychiatrist: They felt like they couldn’t trust you to see things through.\n",
      "Patient: Yeah…\n",
      "Psychiatrist: You mentioned systems to keep you on task. Why do you need them?\n",
      "Patient: If I’m not careful I could start making a project and never finish because here I’ve started another project and have gotten more interested in the new thing than the old one. I have a few projects that I never could finish and maybe I’ll pick them back up when I have time. My current girlfriend likes to joke that our home is in shambles because of all the remodeling projects we have going on. I start a new project before finishing the old one.\n",
      "Psychiatrist: What about your organizational abilities?\n",
      "Patient: Well I have systems now. I have a calendar and a system of reminders that I put into effect. It prompts me a couple times a day with the day’s goal and the project deadline. But I have to put everything into the calendar. It’s like, if it isn’t in the calendar it doesn’t happen. It definitely played a role in me changing majors in college.\n",
      "Psychiatrist: When did that start to become an issue?\n",
      "Patient: As soon as we started getting homework in school. Maybe second or third grade. Definitely by the time the science fair was a thing. I couldn’t straighten out what I wanted to do or what I needed to do to get it done. And when I had writing assignments like essays I’d just get started and wouldn’t kind of keep track of where I wanted things to go so there would be undeveloped ideas or loose ends.\n",
      "Psychiatrist: Did your parents say anything about it at home?\n",
      "Patient: Maybe when I’d try to go to school and I’d forget my books at home or I’d lose my key to get inside.\n",
      "Psychiatrist: We’ll talk about your forgetfulness and the things you’ve lost in just a bit. Did your parents feel like you did things out of order?\n",
      "Patient: They joked that I’d mop the floor before sweeping up all the dirt. That I was sweeping with the mop. Or when I tried baking a cake once I did some of the steps out of order and it turned out terrible. My mom had to step in and help. I avoid cooking to this day because I hate making a list of what I need, doing the shopping, doing the prep work, doing the cooking, and then doing the cleaning afterwards. I’ll cook but not clean. Then I’ve got dirty dishes next time I want to cook. I spend a lot of money eating out haha.\n",
      "Psychiatrist: That brings me to my next point. Are there things you avoid because the effort just doesn’t seem possible?\n",
      "Patient: When I was a kid I wanted to be an astronaut but it seemed like too much work. I learned in college that there was no way I’d become an engineer because I couldn’t handle the math classes.\n",
      "Psychiatrist: When did you first feel like things were too much work?\n",
      "Patient: I quit my first job working at a sandwich shop because I didn’t want to count money and give people change.\n",
      "Psychiatrist: Anything before then?\n",
      "Patient: Well… I was held back in third grade. Because I put my head down and stopped doing the work my teacher asked me to do.\n",
      "Psychiatrist: Goodness, I’m sorry. That must have felt overwhelming.\n",
      "Patient: It was at the time. But it’s all right now.\n",
      "Psychiatrist: Tell me more about the things you’ve lost over the years. Like physical things.\n",
      "Patient: Jeez. Homework assignments. Action figures. Video games. Magazines. Car keys. I’ve had to pay pop a lock to come get me in my home at least three times. I’ve had to have doors re-keyed at old apartments because we didn’t know where the keys ended up. I’ve lost two phones. One was brand new. I can’t keep air pods around so I have to buy a couple sets at a time. I just let a pair go through the washing machine. If I didn’t have an accountant I don’t know what I would do in a tax audit.\n",
      "Psychiatrist: Some big losses there. You mentioned getting distracted earlier?\n",
      "Patient: Oh totally.\n",
      "Psychiatrist: What kinds of things distract you?\n",
      "Patient: Light and sound. I have to work in a quiet place. A little ambient noise is fine. But I couldn’t ever study in the library in college. And it took years but I learned I couldn’t have music or the TV on while I was studying.\n",
      "Psychiatrist: What about in childhood?\n",
      "Patient: I would always stare out the window in school. Or when we did group projects I’d get us off topic by goofing off with my friends. We couldn’t even sit by each other or we’d get in trouble. The teacher was always calling my mom to let her know.\n",
      "Psychiatrist: What would you say has been the biggest consequence of your distractibility?\n",
      "Patient: Hm… I’m not real sure. There has been a lot. I kind of had to choose a life where I could be distracted without big consequences.\n",
      "Psychiatrist: I see. And what about your forgetfulness in general?\n",
      "Patient: I’ve always been forgetful.\n",
      "Psychiatrist: What’s the first thing you remember?\n",
      "Patient: Probably the homework or bringing things to school. I’d get bad grades for not turning things in. Or be “home at this time” and I’d forget. My parents would remind me over and over. I could tell they were getting pissed off at me. They still remind me about things when I call them and it makes me not want to talk to them on the phone.\n",
      "Psychiatrist: It has kind of colored that relationship in a way.\n",
      "Patient: For sure. I’m always reminded that I’m a person who needs reminders. I wish they’d treat me like a grown up.\n",
      "Psychiatrist: You mentioned your other relationships being affected earlier.\n",
      "Patient: Yeah. I’d forget friends birthdays. I’d forget plans I’d made. Girlfriends have left me and friends have stopped returning my calls.\n"
     ]
    }
   ],
   "source": [
    "import re\n",
    "\n",
    "def process_transcript(transcript):\n",
    "    \"\"\"Processes a raw transcript into a more readable format.\n",
    "\n",
    "    Args:\n",
    "        transcript: A string containing the raw transcript.\n",
    "\n",
    "    Returns:\n",
    "        A list of tuples, where each tuple contains the speaker and their utterance.\n",
    "    \"\"\"\n",
    "\n",
    "    lines = transcript.split('\\n')\n",
    "    dialogues = []\n",
    "    current_speaker = None\n",
    "\n",
    "    for line in lines:\n",
    "        if line.startswith('Psychiatrist:') or line.startswith('Patient:'):\n",
    "            current_speaker = line.split(':')[0].strip()\n",
    "            utterance = line.split(':')[1].strip()\n",
    "            dialogues.append((current_speaker, utterance))\n",
    "\n",
    "    return dialogues\n",
    "\n",
    "# Example usage:\n",
    "raw_transcript = transcript_text\n",
    "\n",
    "processed_dialogues = process_transcript(raw_transcript)\n",
    "\n",
    "for speaker, utterance in processed_dialogues:\n",
    "    print(f\"{speaker}: {utterance}\")\n",
    "\n"
   ]
  },
  {
   "cell_type": "code",
   "execution_count": 5,
   "metadata": {
    "id": "jqqlOtWBo-eG"
   },
   "outputs": [],
   "source": [
    "transcript_str = \"\"\n",
    "for speaker, utterance in processed_dialogues:\n",
    "    transcript_str += f\"{speaker}: {utterance}\\n\""
   ]
  },
  {
   "cell_type": "code",
   "execution_count": 6,
   "metadata": {
    "colab": {
     "base_uri": "https://localhost:8080/",
     "height": 143
    },
    "id": "uOOivT0spUV0",
    "outputId": "b690dab5-ea60-430f-f980-ca3070b230a5"
   },
   "outputs": [
    {
     "data": {
      "application/vnd.google.colaboratory.intrinsic+json": {
       "type": "string"
      },
      "text/plain": [
       "'Psychiatrist: Now I’m going to ask about some of your symptoms related to ADHD. Some of these questions sound kind of similar but they point to different aspects of inattention and hyperactivity. Tell me if you think you have the symptom and then tell me about when the symptom began. Then, we’ll get into what the consequences have been for each symptom over the course of your lifetime.\\nPatient: Sure.\\nPsychiatrist: Do you feel like you struggle with attention to details compared to other people?\\nPatient: Oh yeah haha that has been my whole life…\\nPsychiatrist: What was your earliest memory of this issue?\\nPatient: I guess probably third grade.\\nPsychiatrist: What was happening then?\\nPatient: I kept making mistakes on my math homework.\\nPsychiatrist: Did these culminate in any consequences for you?\\nPatient: My parents had to hire a tutor.\\nPsychiatrist: How was this discussed by the family?\\nPatient: I mean… my mom and dad were frustrated with me.\\nPsychiatrist: Was your attention to detail an issue at home too?\\nPatient: I guess when I’d do chores like clean my room I’d do a bad job and then sometimes they would make me go back and do it again.\\nPsychiatrist: What about over the years? Has the problem continued?\\nPatient: I had to drop three classes in college and eventually change my major. I didn’t want to study math or foreign language. So I got into visual art and design.\\nPsychiatrist: Did the symptom follow you into your career? Or your relationships?\\nPatient: I make commissioned projects but I have a lot of autonomy in how they come out. People know how my art looks and they kind of want things to look that way. So they give me a few details but not many and then I kind of let the project go where it goes. I guess I misspell things in emails.\\nPsychiatrist: And your relationships?\\nPatient: I’ve had friendships end because I couldn’t remember peoples’ birthdays.\\nPsychiatrist: We’ll talk about forgetfulness in a moment. Right now we’re talking about what you notice or don’t notice causing issues in your life.\\nPatient: I’d have to think about it more… I don’t know.\\nPsychiatrist: All right. Let’s talk about your ability to focus. Are you able to focus your attention when you need to?\\nPatient: I get distracted like all the time.\\nPsychiatrist: We will talk about distractibility separately. I know this feels like a similar problem, but what I’m wondering is essentially, when you’re supposed to be paying attention it gets difficult. Maybe you notice feeling strained.\\nPatient: Oh yeah, I couldn’t focus to save my life.\\nPsychiatrist: When did you first notice that?\\nPatient: I guess in college. When I was taking classes that I ended up having to drop.\\nPsychiatrist: Did you have the symptom in childhood?\\nPatient: I don’t know. Probably…\\nPsychiatrist: Does anything come to mind?\\nPatient: I’d have to think about it more.\\nPsychiatrist: What about after college? In your career or relationships?\\nPatient: I work discontinuously. I have a schedule where I start working in the morning making visual art and I kind of work until I get bored then I stop. I guess I get behind submitting my projects to galleries. I don’t know about my relationships.\\nPsychiatrist: Are you able to sustain focus on other things? Like movies? Or outdoor activities?\\nPatient: Sometimes. I have to stop movies halfway through a lot.\\nPsychiatrist: What about when people are speaking to you directly? Does anyone ever say you don’t listen to them?\\nPatient: My parents have been saying that to me my whole life.\\nPsychiatrist: When do you remember it starting?\\nPatient: I definitely remember my parents saying that. I’m not sure what it was about.\\nPsychiatrist: Did it cause any problems in school?\\nPatient: I think so but I can’t point to anything for sure.\\nPsychiatrist: What about in your relationships?\\nPatient: I’ve had girlfriends break up with me because they thought I was too wrapped up in my career. They’ve said I was unavailable.\\nPsychiatrist: Was there anything you missed because you were a poor listener?\\nPatient: Yes.\\nPsychiatrist: Like what?\\nPatient: I didn’t remember one girlfriend’s plans. I was supposed to join her for a banquet but apparently I forgot. It was like we had never even spoken about it. She swore she told me. But I planned a trip I didn’t want to cancel.\\nPsychiatrist: What about starting and completing tasks? Are you able to kind of get started and then follow through on things?\\nPatient: I have developed some systems of reminders over the years to help me get through my projects at work but this is why. Yes. It has been a real problem.\\nPsychiatrist: When did it start?\\nPatient: Definitely when I was a kid. Maybe in middle school when assignments started to get more complicated. I’d misread instructions and write a paper that was somehow off topic.\\nPsychiatrist: What about at home? Did you get sidetracked there too?\\nPatient: One time my parents sent me to the grocery store and I came back home with half of the grocery list missing. They stopped sending me to pick things up for them.\\nPsychiatrist: They felt like they couldn’t trust you to see things through.\\nPatient: Yeah…\\nPsychiatrist: You mentioned systems to keep you on task. Why do you need them?\\nPatient: If I’m not careful I could start making a project and never finish because here I’ve started another project and have gotten more interested in the new thing than the old one. I have a few projects that I never could finish and maybe I’ll pick them back up when I have time. My current girlfriend likes to joke that our home is in shambles because of all the remodeling projects we have going on. I start a new project before finishing the old one.\\nPsychiatrist: What about your organizational abilities?\\nPatient: Well I have systems now. I have a calendar and a system of reminders that I put into effect. It prompts me a couple times a day with the day’s goal and the project deadline. But I have to put everything into the calendar. It’s like, if it isn’t in the calendar it doesn’t happen. It definitely played a role in me changing majors in college.\\nPsychiatrist: When did that start to become an issue?\\nPatient: As soon as we started getting homework in school. Maybe second or third grade. Definitely by the time the science fair was a thing. I couldn’t straighten out what I wanted to do or what I needed to do to get it done. And when I had writing assignments like essays I’d just get started and wouldn’t kind of keep track of where I wanted things to go so there would be undeveloped ideas or loose ends.\\nPsychiatrist: Did your parents say anything about it at home?\\nPatient: Maybe when I’d try to go to school and I’d forget my books at home or I’d lose my key to get inside.\\nPsychiatrist: We’ll talk about your forgetfulness and the things you’ve lost in just a bit. Did your parents feel like you did things out of order?\\nPatient: They joked that I’d mop the floor before sweeping up all the dirt. That I was sweeping with the mop. Or when I tried baking a cake once I did some of the steps out of order and it turned out terrible. My mom had to step in and help. I avoid cooking to this day because I hate making a list of what I need, doing the shopping, doing the prep work, doing the cooking, and then doing the cleaning afterwards. I’ll cook but not clean. Then I’ve got dirty dishes next time I want to cook. I spend a lot of money eating out haha.\\nPsychiatrist: That brings me to my next point. Are there things you avoid because the effort just doesn’t seem possible?\\nPatient: When I was a kid I wanted to be an astronaut but it seemed like too much work. I learned in college that there was no way I’d become an engineer because I couldn’t handle the math classes.\\nPsychiatrist: When did you first feel like things were too much work?\\nPatient: I quit my first job working at a sandwich shop because I didn’t want to count money and give people change.\\nPsychiatrist: Anything before then?\\nPatient: Well… I was held back in third grade. Because I put my head down and stopped doing the work my teacher asked me to do.\\nPsychiatrist: Goodness, I’m sorry. That must have felt overwhelming.\\nPatient: It was at the time. But it’s all right now.\\nPsychiatrist: Tell me more about the things you’ve lost over the years. Like physical things.\\nPatient: Jeez. Homework assignments. Action figures. Video games. Magazines. Car keys. I’ve had to pay pop a lock to come get me in my home at least three times. I’ve had to have doors re-keyed at old apartments because we didn’t know where the keys ended up. I’ve lost two phones. One was brand new. I can’t keep air pods around so I have to buy a couple sets at a time. I just let a pair go through the washing machine. If I didn’t have an accountant I don’t know what I would do in a tax audit.\\nPsychiatrist: Some big losses there. You mentioned getting distracted earlier?\\nPatient: Oh totally.\\nPsychiatrist: What kinds of things distract you?\\nPatient: Light and sound. I have to work in a quiet place. A little ambient noise is fine. But I couldn’t ever study in the library in college. And it took years but I learned I couldn’t have music or the TV on while I was studying.\\nPsychiatrist: What about in childhood?\\nPatient: I would always stare out the window in school. Or when we did group projects I’d get us off topic by goofing off with my friends. We couldn’t even sit by each other or we’d get in trouble. The teacher was always calling my mom to let her know.\\nPsychiatrist: What would you say has been the biggest consequence of your distractibility?\\nPatient: Hm… I’m not real sure. There has been a lot. I kind of had to choose a life where I could be distracted without big consequences.\\nPsychiatrist: I see. And what about your forgetfulness in general?\\nPatient: I’ve always been forgetful.\\nPsychiatrist: What’s the first thing you remember?\\nPatient: Probably the homework or bringing things to school. I’d get bad grades for not turning things in. Or be “home at this time” and I’d forget. My parents would remind me over and over. I could tell they were getting pissed off at me. They still remind me about things when I call them and it makes me not want to talk to them on the phone.\\nPsychiatrist: It has kind of colored that relationship in a way.\\nPatient: For sure. I’m always reminded that I’m a person who needs reminders. I wish they’d treat me like a grown up.\\nPsychiatrist: You mentioned your other relationships being affected earlier.\\nPatient: Yeah. I’d forget friends birthdays. I’d forget plans I’d made. Girlfriends have left me and friends have stopped returning my calls.\\n'"
      ]
     },
     "execution_count": 6,
     "metadata": {},
     "output_type": "execute_result"
    }
   ],
   "source": [
    "transcript_str"
   ]
  },
  {
   "cell_type": "markdown",
   "metadata": {
    "id": "z8T93HBviAt3"
   },
   "source": [
    "### Engineering the Prompt"
   ]
  },
  {
   "cell_type": "code",
   "execution_count": null,
   "metadata": {
    "id": "RSI8vmGXdHur"
   },
   "outputs": [],
   "source": [
    "# prompt = {\n",
    "#   \"role\": \"Psychiatrist\",\n",
    "#   \"expertise\": \"ADHD, co-occurring psychiatric disorders\",\n",
    "#   \"knowledge\": \"DSM-5, MEAQ\",\n",
    "#   \"task\": {\n",
    "#     \"qualitative_analysis\": {\n",
    "#       \"mental_status_exam\": [\n",
    "#         \"thought_process\",\n",
    "#         \"thought_content\",\n",
    "#         \"perceptions\",\n",
    "#         \"recent_and_remote_memory\",\n",
    "#         \"cognition\",\n",
    "#         \"insight\",\n",
    "#         \"judgment\"\n",
    "#       ],\n",
    "#       \"characterological_avoidance\": [\n",
    "#         \"behavioral_avoidance\",\n",
    "#         \"distress_aversion\",\n",
    "#         \"procrastination\",\n",
    "#         \"distraction_and_suppression\",\n",
    "#         \"repression_and_denial\",\n",
    "#         \"distress_endurance\"\n",
    "#       ]\n",
    "#     },\n",
    "#     \"quantitative_scoring\": {\n",
    "#       \"severity_rating\": \"numerical_or_categorical\",\n",
    "#       \"behavior_frequency_and_intensity\": \"breakdown_of_specific_behaviors\"\n",
    "#     },\n",
    "#     \"desired_output_format\": {\n",
    "#       \"qualitative_assessment\": {\n",
    "#         \"thought_process\": \"Summarize the patient’s thought process in mental status exam terminology.\",\n",
    "#         \"thought_content\": \"Summarize the patient’s thought content in mental status exam terminology.\",\n",
    "#         \"perceptions\": \"Summarize the patient’s perceptions in mental status exam terminology.\",\n",
    "#         \"recent_and_remote_memory\": \"Summarize the patient’s recent and remote memory in mental status exam terminology.\",\n",
    "#         \"cognition\": \"Summarize the patient’s cognition in mental status exam terminology.\",\n",
    "#         \"insight\": \"Summarize the patient’s insight in mental status exam terminology.\",\n",
    "#         \"judgment\": \"Summarize the patient’s judgment in mental status exam terminology.\",\n",
    "#         \"behavioral_avoidance\": \"Summarize evidence of behavioral avoidance in the transcript.\",\n",
    "#         \"distress_aversion\": \"Summarize evidence of distress aversion in the transcript.\",\n",
    "#         \"procrastination\": \"Summarize evidence of procrastination in the transcript.\",\n",
    "#         \"distraction_and_suppression\": \"Summarize evidence of distraction & suppression in the transcript.\",\n",
    "#         \"repression_and_denial\": \"Summarize evidence of repression & denial in the transcript.\",\n",
    "#         \"distress_endurance\": \"Summarize evidence of distress endurance in the transcript.\"\n",
    "#       }\n",
    "#     }\n",
    "#   },\n",
    "#   \"input_data\": f\"\"\"\n",
    "#     {processed_dialogues}\n",
    "#   \"\"\"\n",
    "# }\n",
    "prompt = prompt = f\"\"\"\n",
    "You are a seasoned psychiatrist specializing in ADHD and co-occurring psychiatric disorders. You have a deep understanding of the DSM-5 criteria and the Multidimensional Experiential Avoidance Questionnaire (MEAQ). Your expertise lies in analyzing clinical interview transcripts to identify underlying psychological themes, particularly characterological avoidance.\n",
    "\n",
    "**Task:**\n",
    "\n",
    "Analyze the following psychiatric interview transcript to assess the patient's mental status and identify evidence of characterological avoidance.\n",
    "\n",
    "**Transcript:**\n",
    "{transcript_str}\n",
    "\n",
    "**Your analysis should include:**\n",
    "\n",
    "**1. Qualitative Assessment:**\n",
    "\n",
    "* **Mental Status Exam:**\n",
    "  * Thought process\n",
    "  * Thought content\n",
    "  * Perceptions\n",
    "  * Recent and remote memory\n",
    "  * Cognition\n",
    "  * Insight\n",
    "  * Judgment\n",
    "* **Characterological Avoidance:**\n",
    "  * Behavioral avoidance\n",
    "  * Distress aversion\n",
    "  * Procrastination\n",
    "  * Distraction and suppression\n",
    "  * Repression and denial\n",
    "  * Distress endurance\n",
    "\"\"\""
   ]
  },
  {
   "cell_type": "code",
   "execution_count": null,
   "metadata": {
    "colab": {
     "base_uri": "https://localhost:8080/"
    },
    "id": "Bn0tjt44i-To",
    "outputId": "42eeb4b0-2c03-4940-9951-b758293a7c92"
   },
   "outputs": [
    {
     "name": "stdout",
     "output_type": "stream",
     "text": [
      "\n",
      "You are a seasoned psychiatrist specializing in ADHD and co-occurring psychiatric disorders. You have a deep understanding of the DSM-5 criteria and the Multidimensional Experiential Avoidance Questionnaire (MEAQ). Your expertise lies in analyzing clinical interview transcripts to identify underlying psychological themes, particularly characterological avoidance.\n",
      "\n",
      "**Task:**\n",
      "\n",
      "Analyze the following psychiatric interview transcript to assess the patient's mental status and identify evidence of characterological avoidance.\n",
      "\n",
      "**Transcript:**\n",
      "Psychiatrist: Now I’m going to ask about some of your symptoms related to ADHD. Some of these questions sound kind of similar but they point to different aspects of inattention and hyperactivity. Tell me if you think you have the symptom and then tell me about when the symptom began. Then, we’ll get into what the consequences have been for each symptom over the course of your lifetime.\n",
      "Patient: Sure.\n",
      "Psychiatrist: Do you feel like you struggle with attention to details compared to other people?\n",
      "Patient: Oh yeah haha that has been my whole life…\n",
      "Psychiatrist: What was your earliest memory of this issue?\n",
      "Patient: I guess probably third grade.\n",
      "Psychiatrist: What was happening then?\n",
      "Patient: I kept making mistakes on my math homework.\n",
      "Psychiatrist: Did these culminate in any consequences for you?\n",
      "Patient: My parents had to hire a tutor.\n",
      "Psychiatrist: How was this discussed by the family?\n",
      "Patient: I mean... my mom and dad were frustrated with me.\n",
      "Psychiatrist: Was your attention to detail an issue at home too?\n",
      "Patient: I guess when I’d do chores like clean my room I’d do a bad job and then sometimes they would make me go back and do it again.\n",
      "Psychiatrist: What about over the years? Has the problem continued?\n",
      "Patient: I had to drop three classes in college and eventually change my major. I didn’t want to study math or foreign language. So I got into visual art and design.\n",
      "Psychiatrist: Did the symptom follow you into your career? Or your relationships?\n",
      "Patient: I make commissioned projects but I have a lot of autonomy in how they come out. People know how my art looks and they kind of want things to look that way. So they give me a few details but not many and then I kind of let the project go where it goes. I guess I misspell things in emails.\n",
      "Psychiatrist: And your relationships?\n",
      "Patient: I’ve had friendships end because I couldn’t remember peoples’ birthdays.\n",
      "Psychiatrist: We’ll talk about forgetfulness in a moment. Right now we’re talking about what you notice or don’t notice causing issues in your life.\n",
      "Patient: I’d have to think about it more… I don’t know.\n",
      "Psychiatrist: All right. Let’s talk about your ability to focus. Are you able to focus your attention when you need to?\n",
      "Patient: I get distracted like all the time.\n",
      "Psychiatrist: We will talk about distractibility separately. I know this feels like a similar problem, but what I’m wondering is essentially, when you’re supposed to be paying attention it gets difficult. Maybe you notice feeling strained.\n",
      "Patient: Oh yeah, I couldn’t focus to save my life.\n",
      "Psychiatrist: When did you first notice that?\n",
      "Patient: I guess in college. When I was taking classes that I ended up having to drop.\n",
      "Psychiatrist: Did you have the symptom in childhood?\n",
      "Patient: I don’t know. Probably…\n",
      "Psychiatrist: Does anything come to mind?\n",
      "Patient: I’d have to think about it more.\n",
      "Psychiatrist: What about after college? In your career or relationships?\n",
      "Patient: I work discontinuously. I have a schedule where I start working in the morning making visual art and I kind of work until I get bored then I stop. I guess I get behind submitting my projects to galleries. I don’t know about my relationships.\n",
      "Psychiatrist: Are you able to sustain focus on other things? Like movies? Or outdoor activities?\n",
      "Patient: Sometimes. I have to stop movies halfway through a lot.\n",
      "Psychiatrist: What about when people are speaking to you directly? Does anyone ever say you don’t listen to them?\n",
      "Patient: My parents have been saying that to me my whole life.\n",
      "Psychiatrist: When do you remember it starting?\n",
      "Patient: I definitely remember my parents saying that. I’m not sure what it was about.\n",
      "Psychiatrist: Did it cause any problems in school?\n",
      "Patient: I think so but I can’t point to anything for sure.\n",
      "Psychiatrist: What about in your relationships?\n",
      "Patient: I’ve had girlfriends break up with me because they thought I was too wrapped up in my career. They’ve said I was unavailable.\n",
      "Psychiatrist: Was there anything you missed because you were a poor listener?\n",
      "Patient: Yes.\n",
      "Psychiatrist: Like what?\n",
      "Patient: I didn’t remember one girlfriend’s plans. I was supposed to join her for a banquet but apparently I forgot. It was like we had never even spoken about it. She swore she told me. But I planned a trip I didn’t want to cancel.\n",
      "Psychiatrist: What about starting and completing tasks? Are you able to kind of get started and then follow through on things?\n",
      "Patient: I have developed some systems of reminders over the years to help me get through my projects at work but this is why. Yes. It has been a real problem.\n",
      "Psychiatrist: When did it start?\n",
      "Patient: Definitely when I was a kid. Maybe in middle school when assignments started to get more complicated. I’d misread instructions and write a paper that was somehow off topic.\n",
      "Psychiatrist: What about at home? Did you get sidetracked there too?\n",
      "Patient: One time my parents sent me to the grocery store and I came back home with half of the grocery list missing. They stopped sending me to pick things up for them.\n",
      "Psychiatrist: They felt like they couldn’t trust you to see things through.\n",
      "Patient: Yeah…\n",
      "Psychiatrist: You mentioned systems to keep you on task. Why do you need them?\n",
      "Patient: If I’m not careful I could start making a project and never finish because here I’ve started another project and have gotten more interested in the new thing than the old one. I have a few projects that I never could finish and maybe I’ll pick them back up when I have time. My current girlfriend likes to joke that our home is in shambles because of all the remodeling projects we have going on. I start a new project before finishing the old one.\n",
      "Psychiatrist: What about your organizational abilities?\n",
      "Patient: Well I have systems now. I have a calendar and a system of reminders that I put into effect. It prompts me a couple times a day with the day’s goal and the project deadline. But I have to put everything into the calendar. It’s like, if it isn’t in the calendar it doesn’t happen. It definitely played a role in me changing majors in college.\n",
      "Psychiatrist: When did that start to become an issue?\n",
      "Patient: As soon as we started getting homework in school. Maybe second or third grade. Definitely by the time the science fair was a thing. I couldn’t straighten out what I wanted to do or what I needed to do to get it done. And when I had writing assignments like essays I’d just get started and wouldn’t kind of keep track of where I wanted things to go so there would be undeveloped ideas or loose ends.\n",
      "Psychiatrist: Did your parents say anything about it at home?\n",
      "Patient: Maybe when I’d try to go to school and I’d forget my books at home or I’d lose my key to get inside.\n",
      "Psychiatrist: We’ll talk about your forgetfulness and the things you’ve lost in just a bit. Did your parents feel like you did things out of order?\n",
      "Patient: They joked that I’d mop the floor before sweeping up all the dirt. That I was sweeping with the mop. Or when I tried baking a cake once I did some of the steps out of order and it turned out terrible. My mom had to step in and help. I avoid cooking to this day because I hate making a list of what I need, doing the shopping, doing the prep work, doing the cooking, and then doing the cleaning afterwards. I’ll cook but not clean. Then I’ve got dirty dishes next time I want to cook. I spend a lot of money eating out haha.\n",
      "Psychiatrist: That brings me to my next point. Are there things you avoid because the effort just doesn’t seem possible?\n",
      "Patient: When I was a kid I wanted to be an astronaut but it seemed like too much work. I learned in college that there was no way I’d become an engineer because I couldn’t handle the math classes.\n",
      "Psychiatrist: When did you first feel like things were too much work?\n",
      "Patient: I quit my first job working at a sandwich shop because I didn’t want to count money and give people change.\n",
      "Psychiatrist: Anything before then?\n",
      "Patient: Well… I was held back in third grade. Because I put my head down and stopped doing the work my teacher asked me to do.\n",
      "Psychiatrist: Goodness, I’m sorry. That must have felt overwhelming.\n",
      "Patient: It was at the time. But it’s all right now.\n",
      "Psychiatrist: Tell me more about the things you’ve lost over the years. Like physical things.\n",
      "Patient: Jeez. Homework assist\n",
      "\n",
      "\n",
      "**Your analysis should include:**\n",
      "\n",
      "**1. Qualitative Assessment:**\n",
      "\n",
      "* **Mental Status Exam:**\n",
      "  * Thought process\n",
      "  * Thought content\n",
      "  * Perceptions\n",
      "  * Recent and remote memory\n",
      "  * Cognition\n",
      "  * Insight\n",
      "  * Judgment\n",
      "* **Characterological Avoidance:**\n",
      "  * Behavioral avoidance\n",
      "  * Distress aversion\n",
      "  * Procrastination\n",
      "  * Distraction and suppression\n",
      "  * Repression and denial\n",
      "  * Distress endurance\n",
      "\n"
     ]
    }
   ],
   "source": [
    "print(prompt)"
   ]
  },
  {
   "cell_type": "markdown",
   "metadata": {
    "id": "OUSKXX_Cc8q3"
   },
   "source": [
    "### Setting up the model"
   ]
  },
  {
   "cell_type": "code",
   "execution_count": 7,
   "metadata": {
    "id": "Km7DIeHTcqU-"
   },
   "outputs": [],
   "source": [
    "# Install the python package for google gen AI\n",
    "!pip install -q -U google-generativeai"
   ]
  },
  {
   "cell_type": "code",
   "execution_count": 8,
   "metadata": {
    "id": "dGRlbuwndELv"
   },
   "outputs": [],
   "source": [
    "# Import necessary packages and define helper function to render output of models to markdown\n",
    "import pathlib\n",
    "import textwrap\n",
    "\n",
    "import google.generativeai as genai\n",
    "\n",
    "from IPython.display import display\n",
    "from IPython.display import Markdown\n",
    "\n",
    "\n",
    "def to_markdown(text):\n",
    "  text = text.replace('•', '  *')\n",
    "  return Markdown(textwrap.indent(text, '> ', predicate=lambda _: True))\n",
    "\n",
    "# Used to securely store your API key\n",
    "from google.colab import userdata"
   ]
  },
  {
   "cell_type": "code",
   "execution_count": null,
   "metadata": {
    "id": "lxIDoPE3jzg6"
   },
   "outputs": [],
   "source": [
    "# Grab API Key from your secrets, add it to secrets if its not there (on the left hand panel)\n",
    "\n",
    "\n",
    "# Configure genai to use your API Key\n",
    "genai.configure(api_key=GOOGLE_API_KEY)"
   ]
  },
  {
   "cell_type": "code",
   "execution_count": 10,
   "metadata": {
    "colab": {
     "base_uri": "https://localhost:8080/",
     "height": 481
    },
    "id": "_ybHlMLrltrN",
    "outputId": "b193889d-8b46-439e-816a-0cd4c5d28178"
   },
   "outputs": [
    {
     "name": "stdout",
     "output_type": "stream",
     "text": [
      "models/gemini-1.0-pro-latest\n",
      "models/gemini-1.0-pro\n",
      "models/gemini-pro\n",
      "models/gemini-1.0-pro-001\n",
      "models/gemini-1.0-pro-vision-latest\n",
      "models/gemini-pro-vision\n",
      "models/gemini-1.5-pro-latest\n",
      "models/gemini-1.5-pro-001\n",
      "models/gemini-1.5-pro-002\n",
      "models/gemini-1.5-pro\n",
      "models/gemini-1.5-pro-exp-0801\n",
      "models/gemini-1.5-pro-exp-0827\n",
      "models/gemini-1.5-flash-latest\n",
      "models/gemini-1.5-flash-001\n",
      "models/gemini-1.5-flash-001-tuning\n",
      "models/gemini-1.5-flash\n",
      "models/gemini-1.5-flash-exp-0827\n",
      "models/gemini-1.5-flash-002\n",
      "models/gemini-1.5-flash-8b\n",
      "models/gemini-1.5-flash-8b-001\n",
      "models/gemini-1.5-flash-8b-latest\n",
      "models/gemini-1.5-flash-8b-exp-0827\n",
      "models/gemini-1.5-flash-8b-exp-0924\n",
      "models/learnlm-1.5-pro-experimental\n",
      "models/gemini-exp-1114\n",
      "models/gemini-exp-1121\n"
     ]
    }
   ],
   "source": [
    "# List the available gemini models\n",
    "for m in genai.list_models():\n",
    "  if 'generateContent' in m.supported_generation_methods:\n",
    "    print(m.name)"
   ]
  },
  {
   "cell_type": "code",
   "execution_count": 11,
   "metadata": {
    "id": "7Dl_D82zl5P9"
   },
   "outputs": [],
   "source": [
    "# Select a model and instantiate a GenerativeModel\n",
    "model = genai.GenerativeModel('gemini-exp-1121')"
   ]
  },
  {
   "cell_type": "code",
   "execution_count": null,
   "metadata": {
    "id": "yl2nfnrUl8r6"
   },
   "outputs": [],
   "source": [
    "# You can now use the model defind about to generate content base on inputs\n",
    "response = model.generate_content(\"What are mental health crucial isusses in 2024\")"
   ]
  },
  {
   "cell_type": "code",
   "execution_count": null,
   "metadata": {
    "colab": {
     "base_uri": "https://localhost:8080/",
     "height": 956
    },
    "id": "xNvjQJ2Amd3a",
    "outputId": "afa0310c-2274-4ced-f033-a9610531fe95"
   },
   "outputs": [
    {
     "data": {
      "text/markdown": [
       "> Mental health continues to be a critical global issue, and several key areas are gaining increasing attention in 2024. Here's a look at some of the crucial mental health issues this year:\n",
       "> \n",
       "> **1. The Impact of Global Uncertainty and Societal Issues:**\n",
       "> \n",
       "> *   **Geopolitical Instability and Conflict:**  Wars, political unrest, and economic uncertainty contribute to anxiety, fear, displacement, and trauma, impacting both individuals and communities.\n",
       "> *   **Climate Change and Eco-Anxiety:**  The growing awareness of climate change and its consequences leads to feelings of helplessness, despair, and anxiety, particularly among younger generations.\n",
       "> *   **Social and Economic Inequality:**  Disparities in income, access to resources, and opportunities contribute to stress, hopelessness, and mental health problems, especially for marginalized groups.\n",
       "> \n",
       "> **2. The Ongoing Mental Health Crisis Among Youth and Young Adults:**\n",
       "> \n",
       "> *   **Rising Rates of Anxiety and Depression:**  Rates of anxiety and depression continue to increase among adolescents and young adults, exacerbated by academic pressures, social media influences, and the lingering effects of the pandemic.\n",
       "> *   **Social Media's Impact:**  Excessive social media use is linked to body image issues, cyberbullying, loneliness, and sleep disturbances, all of which can negatively impact mental well-being.\n",
       "> *   **Challenges in Accessing Care:**  Many young people face barriers to accessing mental health services, including stigma, lack of availability, and affordability issues.\n",
       "> \n",
       "> **3. The Mental Health Workforce Shortage and Access to Care:**\n",
       "> \n",
       "> *   **Provider Burnout and Shortages:**  The demand for mental health services far outweighs the number of available providers, leading to long wait times, provider burnout, and difficulty accessing timely care.\n",
       "> *   **Disparities in Access:**  Access to mental health care remains inequitable, with rural communities, low-income individuals, and minority groups often facing significant barriers.\n",
       "> *   **Telehealth and Digital Mental Health:**  While telehealth has expanded access, challenges remain regarding digital equity, privacy concerns, and the effectiveness of digital interventions for all populations.\n",
       "> \n",
       "> **4. The Need for Integrated and Holistic Care:**\n",
       "> \n",
       "> *   **Addressing the Mind-Body Connection:**  There's a growing recognition of the interconnectedness of physical and mental health, leading to a push for integrated care models that address both simultaneously.\n",
       "> *   **Focus on Prevention and Early Intervention:**  Efforts are being made to promote mental well-being and prevent mental health problems from developing through early intervention programs, school-based initiatives, and community-level support.\n",
       "> *   **Culturally Competent Care:**  The importance of providing culturally sensitive and tailored mental health services is increasingly recognized, addressing the unique needs of diverse populations.\n",
       "> \n",
       "> **5. Addressing Specific Mental Health Conditions:**\n",
       "> \n",
       "> *   **Suicide Prevention:**  Suicide remains a major public health concern, and efforts are focused on strengthening crisis response systems, improving suicide risk assessment, and promoting connectedness and support.\n",
       "> *   **Substance Use Disorders and Co-occurring Conditions:**  Addressing the complex interplay between mental health and substance use disorders is critical, requiring integrated treatment approaches.\n",
       "> *   **Trauma-Informed Care:**  Recognizing the widespread impact of trauma, there's a growing emphasis on providing trauma-informed care that prioritizes safety, trust, and empowerment.\n",
       "> \n",
       "> **6. Stigma Reduction and Advocacy:**\n",
       "> \n",
       "> *   **Combating Stigma:**  Efforts to reduce stigma surrounding mental illness are crucial to encourage help-seeking behavior and create a more supportive and inclusive society.\n",
       "> *   **Advocacy for Policy Changes:**  Advocates are pushing for policies that expand access to mental health care, improve insurance coverage, and promote mental health parity.\n",
       "> *   **Lived Experience Voices:**  The voices of individuals with lived experience of mental illness are becoming increasingly central to shaping mental health policies, services, and research.\n",
       "> \n",
       "> **In summary, the crucial mental health issues in 2024 revolve around addressing the impact of global stressors, improving access to care, promoting integrated and holistic approaches, and advocating for policy changes that prioritize mental well-being for all.**  It is important to note that these issues are interconnected and require collaborative efforts from individuals, communities, healthcare providers, policymakers, and researchers to effectively address them.\n"
      ],
      "text/plain": [
       "<IPython.core.display.Markdown object>"
      ]
     },
     "execution_count": 40,
     "metadata": {},
     "output_type": "execute_result"
    }
   ],
   "source": [
    "# This makes the response easier to read\n",
    "to_markdown(response.text)"
   ]
  },
  {
   "cell_type": "code",
   "execution_count": null,
   "metadata": {
    "colab": {
     "base_uri": "https://localhost:8080/",
     "height": 143
    },
    "id": "k0_TXOUgnJ6e",
    "outputId": "4cba532a-f0fd-444e-a04a-f563e0d3a770"
   },
   "outputs": [
    {
     "data": {
      "application/vnd.google.colaboratory.intrinsic+json": {
       "type": "string"
      },
      "text/plain": [
       "\"\\nYou are a seasoned psychiatrist specializing in ADHD and co-occurring psychiatric disorders. You have a deep understanding of the DSM-5 criteria and the Multidimensional Experiential Avoidance Questionnaire (MEAQ). Your expertise lies in analyzing clinical interview transcripts to identify underlying psychological themes, particularly characterological avoidance.\\n\\n**Task:**\\n\\nAnalyze the following psychiatric interview transcript to assess the patient's mental status and identify evidence of characterological avoidance.\\n\\n**Transcript:**\\nPsychiatrist: Now I’m going to ask about some of your symptoms related to ADHD. Some of these questions sound kind of similar but they point to different aspects of inattention and hyperactivity. Tell me if you think you have the symptom and then tell me about when the symptom began. Then, we’ll get into what the consequences have been for each symptom over the course of your lifetime.\\nPatient: Sure.\\nPsychiatrist: Do you feel like you struggle with attention to details compared to other people?\\nPatient: Oh yeah haha that has been my whole life…\\nPsychiatrist: What was your earliest memory of this issue?\\nPatient: I guess probably third grade.\\nPsychiatrist: What was happening then?\\nPatient: I kept making mistakes on my math homework.\\nPsychiatrist: Did these culminate in any consequences for you?\\nPatient: My parents had to hire a tutor.\\nPsychiatrist: How was this discussed by the family?\\nPatient: I mean... my mom and dad were frustrated with me.\\nPsychiatrist: Was your attention to detail an issue at home too?\\nPatient: I guess when I’d do chores like clean my room I’d do a bad job and then sometimes they would make me go back and do it again.\\nPsychiatrist: What about over the years? Has the problem continued?\\nPatient: I had to drop three classes in college and eventually change my major. I didn’t want to study math or foreign language. So I got into visual art and design.\\nPsychiatrist: Did the symptom follow you into your career? Or your relationships?\\nPatient: I make commissioned projects but I have a lot of autonomy in how they come out. People know how my art looks and they kind of want things to look that way. So they give me a few details but not many and then I kind of let the project go where it goes. I guess I misspell things in emails.\\nPsychiatrist: And your relationships?\\nPatient: I’ve had friendships end because I couldn’t remember peoples’ birthdays.\\nPsychiatrist: We’ll talk about forgetfulness in a moment. Right now we’re talking about what you notice or don’t notice causing issues in your life.\\nPatient: I’d have to think about it more… I don’t know.\\nPsychiatrist: All right. Let’s talk about your ability to focus. Are you able to focus your attention when you need to?\\nPatient: I get distracted like all the time.\\nPsychiatrist: We will talk about distractibility separately. I know this feels like a similar problem, but what I’m wondering is essentially, when you’re supposed to be paying attention it gets difficult. Maybe you notice feeling strained.\\nPatient: Oh yeah, I couldn’t focus to save my life.\\nPsychiatrist: When did you first notice that?\\nPatient: I guess in college. When I was taking classes that I ended up having to drop.\\nPsychiatrist: Did you have the symptom in childhood?\\nPatient: I don’t know. Probably…\\nPsychiatrist: Does anything come to mind?\\nPatient: I’d have to think about it more.\\nPsychiatrist: What about after college? In your career or relationships?\\nPatient: I work discontinuously. I have a schedule where I start working in the morning making visual art and I kind of work until I get bored then I stop. I guess I get behind submitting my projects to galleries. I don’t know about my relationships.\\nPsychiatrist: Are you able to sustain focus on other things? Like movies? Or outdoor activities?\\nPatient: Sometimes. I have to stop movies halfway through a lot.\\nPsychiatrist: What about when people are speaking to you directly? Does anyone ever say you don’t listen to them?\\nPatient: My parents have been saying that to me my whole life.\\nPsychiatrist: When do you remember it starting?\\nPatient: I definitely remember my parents saying that. I’m not sure what it was about.\\nPsychiatrist: Did it cause any problems in school?\\nPatient: I think so but I can’t point to anything for sure.\\nPsychiatrist: What about in your relationships?\\nPatient: I’ve had girlfriends break up with me because they thought I was too wrapped up in my career. They’ve said I was unavailable.\\nPsychiatrist: Was there anything you missed because you were a poor listener?\\nPatient: Yes.\\nPsychiatrist: Like what?\\nPatient: I didn’t remember one girlfriend’s plans. I was supposed to join her for a banquet but apparently I forgot. It was like we had never even spoken about it. She swore she told me. But I planned a trip I didn’t want to cancel.\\nPsychiatrist: What about starting and completing tasks? Are you able to kind of get started and then follow through on things?\\nPatient: I have developed some systems of reminders over the years to help me get through my projects at work but this is why. Yes. It has been a real problem.\\nPsychiatrist: When did it start?\\nPatient: Definitely when I was a kid. Maybe in middle school when assignments started to get more complicated. I’d misread instructions and write a paper that was somehow off topic.\\nPsychiatrist: What about at home? Did you get sidetracked there too?\\nPatient: One time my parents sent me to the grocery store and I came back home with half of the grocery list missing. They stopped sending me to pick things up for them.\\nPsychiatrist: They felt like they couldn’t trust you to see things through.\\nPatient: Yeah…\\nPsychiatrist: You mentioned systems to keep you on task. Why do you need them?\\nPatient: If I’m not careful I could start making a project and never finish because here I’ve started another project and have gotten more interested in the new thing than the old one. I have a few projects that I never could finish and maybe I’ll pick them back up when I have time. My current girlfriend likes to joke that our home is in shambles because of all the remodeling projects we have going on. I start a new project before finishing the old one.\\nPsychiatrist: What about your organizational abilities?\\nPatient: Well I have systems now. I have a calendar and a system of reminders that I put into effect. It prompts me a couple times a day with the day’s goal and the project deadline. But I have to put everything into the calendar. It’s like, if it isn’t in the calendar it doesn’t happen. It definitely played a role in me changing majors in college.\\nPsychiatrist: When did that start to become an issue?\\nPatient: As soon as we started getting homework in school. Maybe second or third grade. Definitely by the time the science fair was a thing. I couldn’t straighten out what I wanted to do or what I needed to do to get it done. And when I had writing assignments like essays I’d just get started and wouldn’t kind of keep track of where I wanted things to go so there would be undeveloped ideas or loose ends.\\nPsychiatrist: Did your parents say anything about it at home?\\nPatient: Maybe when I’d try to go to school and I’d forget my books at home or I’d lose my key to get inside.\\nPsychiatrist: We’ll talk about your forgetfulness and the things you’ve lost in just a bit. Did your parents feel like you did things out of order?\\nPatient: They joked that I’d mop the floor before sweeping up all the dirt. That I was sweeping with the mop. Or when I tried baking a cake once I did some of the steps out of order and it turned out terrible. My mom had to step in and help. I avoid cooking to this day because I hate making a list of what I need, doing the shopping, doing the prep work, doing the cooking, and then doing the cleaning afterwards. I’ll cook but not clean. Then I’ve got dirty dishes next time I want to cook. I spend a lot of money eating out haha.\\nPsychiatrist: That brings me to my next point. Are there things you avoid because the effort just doesn’t seem possible?\\nPatient: When I was a kid I wanted to be an astronaut but it seemed like too much work. I learned in college that there was no way I’d become an engineer because I couldn’t handle the math classes.\\nPsychiatrist: When did you first feel like things were too much work?\\nPatient: I quit my first job working at a sandwich shop because I didn’t want to count money and give people change.\\nPsychiatrist: Anything before then?\\nPatient: Well… I was held back in third grade. Because I put my head down and stopped doing the work my teacher asked me to do.\\nPsychiatrist: Goodness, I’m sorry. That must have felt overwhelming.\\nPatient: It was at the time. But it’s all right now.\\nPsychiatrist: Tell me more about the things you’ve lost over the years. Like physical things.\\nPatient: Jeez. Homework assist\\n\\n\\n**Your analysis should include:**\\n\\n**1. Qualitative Assessment:**\\n\\n* **Mental Status Exam:**\\n  * Thought process\\n  * Thought content\\n  * Perceptions\\n  * Recent and remote memory\\n  * Cognition\\n  * Insight\\n  * Judgment\\n* **Characterological Avoidance:**\\n  * Behavioral avoidance\\n  * Distress aversion\\n  * Procrastination\\n  * Distraction and suppression\\n  * Repression and denial\\n  * Distress endurance\\n\""
      ]
     },
     "execution_count": 55,
     "metadata": {},
     "output_type": "execute_result"
    }
   ],
   "source": [
    "prompt"
   ]
  },
  {
   "cell_type": "code",
   "execution_count": null,
   "metadata": {
    "colab": {
     "base_uri": "https://localhost:8080/",
     "height": 1000
    },
    "id": "P4qOUcCOmsx-",
    "outputId": "fedd46e2-d850-40e0-e4cb-aeea23abdd7a"
   },
   "outputs": [
    {
     "data": {
      "text/markdown": [
       "> Absolutely. Here's my analysis of the psychiatric interview transcript, focusing on the patient's mental status and evidence of characterological avoidance.\n",
       "> \n",
       "> **1. Qualitative Assessment:**\n",
       "> \n",
       "> *   **Mental Status Exam:**\n",
       "> \n",
       ">     *   **Thought process:** The patient's thought process appears linear and goal-directed during the interview, though there is some tangentiality when discussing the history of their symptoms. They respond appropriately to questions and demonstrate intact logic. There is some evidence of racing thoughts when discussing current projects.\n",
       ">     *   **Thought content:**  The patient's thought content is focused on difficulties with attention, focus, organization, and task completion. There are no overt signs of delusions, hallucinations, or suicidal/homicidal ideation based on this excerpt. They express frustration and self-deprecating humor regarding their challenges (\"I couldn’t focus to save my life\", \"our home is in shambles\").\n",
       ">     *   **Perceptions:** There is no indication of perceptual disturbances (hallucinations or illusions) based on the provided transcript.\n",
       ">     *   **Recent and remote memory:** Recent memory appears intact, as the patient recalls details about current work projects, relationships, and daily routines. Remote memory is somewhat patchy, particularly concerning childhood experiences related to attention and focus. They struggle to pinpoint the onset of some symptoms, stating \"I don't know\" or \"I'd have to think about it more\" frequently. They also report forgetting plans and conversations with girlfriends.\n",
       ">     *   **Cognition:**  The patient demonstrates adequate cognitive functioning based on their responses. They can recall events and provide relevant details, although as noted above, there are deficits in the precision and timeline of their recollections, particularly for early childhood. They have developed compensatory strategies like organizational systems. There is some evidence of poor working memory due to challenges with remembering instructions, grocery lists and planning steps in complex activities.\n",
       ">     *   **Insight:** The patient demonstrates partial insight into their difficulties. They recognize their struggles with attention, focus, organization, and task completion and acknowledge the negative impact these have had on their academic, professional, and personal life. They have developed systems to manage some of these challenges, indicating awareness. However, the lack of specific details regarding the history of their symptoms and the minimization of past difficulties suggest some limitation in their insight.\n",
       ">     *   **Judgment:** Based on the information provided, the patient's judgment appears to be intact. They made the decision to change majors in college in response to academic difficulties and have developed systems to manage their organizational challenges in their career.\n",
       "> \n",
       "> *   **Characterological Avoidance:**  The transcript reveals significant evidence of characterological avoidance across multiple domains:\n",
       "> \n",
       ">     *   **Behavioral avoidance:** The patient demonstrates a clear pattern of avoiding tasks and situations perceived as effortful or complex. This is evident in their avoidance of cooking, quitting the sandwich shop job,  dismissing the idea of becoming an engineer or astronaut due to the perceived workload, and avoiding activities that require sustained attention or organization such as multi-step baking or detailed instructions. They also demonstrate an avoidant pattern in relationships by becoming \"unavailable\" which culminates in their partners ending the relationship.\n",
       "> \n",
       ">         *   _Transcript evidence:_ \"I avoid cooking to this day because I hate making a list of what I need...I quit my first job working at a sandwich shop because I didn’t want to count money and give people change...When I was a kid I wanted to be an astronaut but it seemed like too much work. I learned in college that there was no way I’d become an engineer because I couldn’t handle the math classes.\" \"I’ve had girlfriends break up with me because they thought I was too wrapped up in my career. They’ve said I was unavailable.\"\n",
       "> \n",
       ">     *   **Distress aversion:** There is a strong indication that the patient is motivated to avoid internal distress associated with effort, boredom, and frustration. This is seen in their tendency to quit tasks when they become bored or overwhelmed, their preference for autonomy in their work to minimize external demands, and their reliance on external structures (calendars, reminders) to manage tasks rather than internal motivation.\n",
       "> \n",
       ">         *   _Transcript evidence:_ \"I work discontinuously. I have a schedule where I start working in the morning making visual art and I kind of work until I get bored then I stop.\" \"If I’m not careful I could start making a project and never finish because here I’ve started another project and have gotten more interested in the new thing than the old one.\" \"It’s like, if it isn’t in the calendar it doesn’t happen.\"\n",
       "> \n",
       ">     *   **Procrastination:**  Procrastination is evident in the patient's history of getting behind on submitting projects to galleries and delaying or abandoning personal projects. They also report starting new tasks before finishing existing ones.\n",
       "> \n",
       ">         *   _Transcript evidence:_ \"I guess I get behind submitting my projects to galleries.\" \"I start a new project before finishing the old one.\" \"I have a few projects that I never could finish and maybe I’ll pick them back up when I have time.\"\n",
       "> \n",
       ">     *   **Distraction and suppression:**  The patient describes frequent distraction (\"I get distracted like all the time\") and a reliance on changing activities when focus becomes difficult. This suggests a pattern of using distraction to avoid the discomfort of sustained attention or challenging tasks.\n",
       "> \n",
       ">         *   _Transcript evidence:_ \"I get distracted like all the time.\" \"I start a new project before finishing the old one.\" \"Sometimes. I have to stop movies halfway through a lot.\"\n",
       "> \n",
       ">     *   **Repression and denial:** While less prominent, there is some evidence of repression or denial, particularly regarding the early history of their symptoms and their impact on relationships. The patient minimizes or dismisses certain events, stating \"I don't know\" or \"Probably\" when asked about childhood experiences, and is unable to recall details or explain why parents were frustrated with their inattention.\n",
       "> \n",
       ">         *   _Transcript evidence:_ \"I don’t know. Probably…\" when asked about focusing difficulties in childhood. Inconsistent reporting of parental complaints: \"I definitely remember my parents saying that [that I don't listen to them]...I'm not sure what it was about.\"\n",
       "> \n",
       ">     *   **Distress endurance:**  The patient demonstrates low distress endurance, frequently shifting activities or quitting when they experience boredom, frustration, or difficulty. This is illustrated by their work style, their history of dropping classes and jobs, and their avoidance of tasks perceived as complex or tedious. The systems they've put in place suggest an attempt to bolster this deficit.\n",
       "> \n",
       ">         *   _Transcript evidence:_ \"I work discontinuously...I kind of work until I get bored then I stop.\" \"I had to drop three classes in college...\"  \"...I quit my first job working at a sandwich shop because I didn’t want to count money and give people change.\"  \"I have systems now...It prompts me a couple times a day with the day’s goal and the project deadline.\"\n",
       "> \n",
       "> **Diagnostic Impressions and Further Considerations:**\n",
       "> \n",
       "> Based on this initial analysis, the patient's presentation is highly suggestive of **Attention-Deficit/Hyperactivity Disorder (ADHD), predominantly inattentive presentation**. The symptoms of inattention, disorganization, difficulty sustaining focus, and avoidance of effortful tasks are consistent with the DSM-5 criteria for ADHD. The history of these symptoms dating back to childhood and their impact across multiple domains (academic, professional, and personal) further support this diagnosis.\n",
       "> \n",
       "> The prominent pattern of characterological avoidance warrants further exploration. It is possible that these avoidant behaviors represent a maladaptive coping mechanism developed in response to the challenges of living with ADHD. Alternatively, these avoidant traits could be indicative of a co-occurring personality disorder, such as **Avoidant Personality Disorder**, or other anxiety-related disorders. Further assessment would be necessary to differentiate these possibilities. It will be important to assess the patient's motivation for treatment and their willingness to engage in behavioral interventions aimed at reducing avoidance and increasing distress tolerance.\n",
       "> \n",
       "> It is also important to rule out other potential differential diagnoses, such as learning disabilities, mood disorders, or anxiety disorders, that may contribute to the patient's difficulties. A comprehensive psychological evaluation, including cognitive testing and additional personality assessment, is recommended to clarify the diagnosis and inform treatment planning. Administering and analyzing the results of the MEAQ would provide further valuable insight into the patient's avoidance patterns and distress tolerance.\n"
      ],
      "text/plain": [
       "<IPython.core.display.Markdown object>"
      ]
     },
     "execution_count": 56,
     "metadata": {},
     "output_type": "execute_result"
    }
   ],
   "source": [
    "response = model.generate_content(prompt)\n",
    "to_markdown(response.text)"
   ]
  },
  {
   "cell_type": "markdown",
   "metadata": {
    "id": "hj68QSloNa6W"
   },
   "source": [
    "## ADHD"
   ]
  },
  {
   "cell_type": "markdown",
   "metadata": {
    "id": "MSsQa_pSNeRt"
   },
   "source": [
    "### Appeoach I : transcript generation prompt"
   ]
  },
  {
   "cell_type": "code",
   "execution_count": null,
   "metadata": {
    "id": "AvxcbWPYNp1a"
   },
   "outputs": [],
   "source": [
    "iprompt1 = f'''\n",
    "You are generating a simulated transcript of a patient encounter that took place\n",
    "in an adult outpatient psychiatric practice where a patient is being evaluated for\n",
    "ADHD. During this encounter, the psychiatrist is specifically asking the patient\n",
    "about his or her symptoms of inattention (there are nine of them in the DSM-5).\n",
    "The patient demonstrates subtle symptoms of inattention in the way they reply to\n",
    "the psychiatrist. The psychiatrist is trying to find out which inattentive symptoms\n",
    "the patient has, when the symptom began, and ways the symptoms have been consequential\n",
    "over time.The psychiatrist wants to understand the cumulative toll that inattention has\n",
    "taken on the patient’s identity, relationships with family or significant others, and\n",
    "occupational success or shortcoming. As the psychiatrist prompts the patient about\n",
    "these symptoms, the patient is likely to omit some or all of the information the\n",
    "psychiatrist is seeking. The patient may subtly misunderstand exactly what\n",
    "the psychiatrist is asking due to their difficulty paying close attention.\n",
    "The patient may become distracted once or twice. The patient may reply that\n",
    "they have a symptom and then struggle to provide real world examples of\n",
    "the symptom in their own life. In response, the psychiatrist will assist\n",
    "the patient by asking about a number of life circumstances during childhood,\n",
    "adolescence, and adulthood where the symptom might have been evident.\n",
    "The psychiatrist comments gently but directly if a patient has not answered\n",
    "his or her question. Sometimes this causes the patient to become irritated or\n",
    "anxious. The psychiatrist attempts to be empathic when the patient shares vulnerable\n",
    "information. Use the simulated transcript as an example. Generate an output transcript of similar length.\n",
    "\n",
    "Transcript:\n",
    "{transcript_str}\n",
    "\n",
    "'''"
   ]
  },
  {
   "cell_type": "code",
   "execution_count": null,
   "metadata": {
    "colab": {
     "base_uri": "https://localhost:8080/",
     "height": 143
    },
    "id": "UWP3O2_VQbaz",
    "outputId": "2154d987-8764-4aaf-8720-7608879795f9"
   },
   "outputs": [
    {
     "data": {
      "application/vnd.google.colaboratory.intrinsic+json": {
       "type": "string"
      },
      "text/plain": [
       "'\\nYou are generating a simulated transcript of a patient encounter that took place \\nin an adult outpatient psychiatric practice where a patient is being evaluated for \\nADHD. During this encounter, the psychiatrist is specifically asking the patient \\nabout his or her symptoms of inattention (there are nine of them in the DSM-5). \\nThe patient demonstrates subtle symptoms of inattention in the way they reply to \\nthe psychiatrist. The psychiatrist is trying to find out which inattentive symptoms\\nthe patient has, when the symptom began, and ways the symptoms have been consequential\\nover time.The psychiatrist wants to understand the cumulative toll that inattention has\\ntaken on the patient’s identity, relationships with family or significant others, and \\noccupational success or shortcoming. As the psychiatrist prompts the patient about\\nthese symptoms, the patient is likely to omit some or all of the information the\\npsychiatrist is seeking. The patient may subtly misunderstand exactly what \\nthe psychiatrist is asking due to their difficulty paying close attention. \\nThe patient may become distracted once or twice. The patient may reply that \\nthey have a symptom and then struggle to provide real world examples of \\nthe symptom in their own life. In response, the psychiatrist will assist \\nthe patient by asking about a number of life circumstances during childhood, \\nadolescence, and adulthood where the symptom might have been evident. \\nThe psychiatrist comments gently but directly if a patient has not answered\\nhis or her question. Sometimes this causes the patient to become irritated or \\nanxious. The psychiatrist attempts to be empathic when the patient shares vulnerable\\ninformation. Use the simulated transcript as an example. Generate an output transcript of similar length.\\n\\nTranscript:\\nPsychiatrist: Now I’m going to ask about some of your symptoms related to ADHD. Some of these questions sound kind of similar but they point to different aspects of inattention and hyperactivity. Tell me if you think you have the symptom and then tell me about when the symptom began. Then, we’ll get into what the consequences have been for each symptom over the course of your lifetime.\\nPatient: Sure.\\nPsychiatrist: Do you feel like you struggle with attention to details compared to other people?\\nPatient: Oh yeah haha that has been my whole life…\\nPsychiatrist: What was your earliest memory of this issue?\\nPatient: I guess probably third grade.\\nPsychiatrist: What was happening then?\\nPatient: I kept making mistakes on my math homework.\\nPsychiatrist: Did these culminate in any consequences for you?\\nPatient: My parents had to hire a tutor.\\nPsychiatrist: How was this discussed by the family?\\nPatient: I mean… my mom and dad were frustrated with me.\\nPsychiatrist: Was your attention to detail an issue at home too?\\nPatient: I guess when I’d do chores like clean my room I’d do a bad job and then sometimes they would make me go back and do it again.\\nPsychiatrist: What about over the years? Has the problem continued?\\nPatient: I had to drop three classes in college and eventually change my major. I didn’t want to study math or foreign language. So I got into visual art and design.\\nPsychiatrist: Did the symptom follow you into your career? Or your relationships?\\nPatient: I make commissioned projects but I have a lot of autonomy in how they come out. People know how my art looks and they kind of want things to look that way. So they give me a few details but not many and then I kind of let the project go where it goes. I guess I misspell things in emails.\\nPsychiatrist: And your relationships?\\nPatient: I’ve had friendships end because I couldn’t remember peoples’ birthdays.\\nPsychiatrist: We’ll talk about forgetfulness in a moment. Right now we’re talking about what you notice or don’t notice causing issues in your life.\\nPatient: I’d have to think about it more… I don’t know.\\nPsychiatrist: All right. Let’s talk about your ability to focus. Are you able to focus your attention when you need to?\\nPatient: I get distracted like all the time.\\nPsychiatrist: We will talk about distractibility separately. I know this feels like a similar problem, but what I’m wondering is essentially, when you’re supposed to be paying attention it gets difficult. Maybe you notice feeling strained.\\nPatient: Oh yeah, I couldn’t focus to save my life.\\nPsychiatrist: When did you first notice that?\\nPatient: I guess in college. When I was taking classes that I ended up having to drop.\\nPsychiatrist: Did you have the symptom in childhood?\\nPatient: I don’t know. Probably…\\nPsychiatrist: Does anything come to mind?\\nPatient: I’d have to think about it more.\\nPsychiatrist: What about after college? In your career or relationships?\\nPatient: I work discontinuously. I have a schedule where I start working in the morning making visual art and I kind of work until I get bored then I stop. I guess I get behind submitting my projects to galleries. I don’t know about my relationships.\\nPsychiatrist: Are you able to sustain focus on other things? Like movies? Or outdoor activities?\\nPatient: Sometimes. I have to stop movies halfway through a lot.\\nPsychiatrist: What about when people are speaking to you directly? Does anyone ever say you don’t listen to them?\\nPatient: My parents have been saying that to me my whole life.\\nPsychiatrist: When do you remember it starting?\\nPatient: I definitely remember my parents saying that. I’m not sure what it was about.\\nPsychiatrist: Did it cause any problems in school?\\nPatient: I think so but I can’t point to anything for sure.\\nPsychiatrist: What about in your relationships?\\nPatient: I’ve had girlfriends break up with me because they thought I was too wrapped up in my career. They’ve said I was unavailable.\\nPsychiatrist: Was there anything you missed because you were a poor listener?\\nPatient: Yes.\\nPsychiatrist: Like what?\\nPatient: I didn’t remember one girlfriend’s plans. I was supposed to join her for a banquet but apparently I forgot. It was like we had never even spoken about it. She swore she told me. But I planned a trip I didn’t want to cancel.\\nPsychiatrist: What about starting and completing tasks? Are you able to kind of get started and then follow through on things?\\nPatient: I have developed some systems of reminders over the years to help me get through my projects at work but this is why. Yes. It has been a real problem.\\nPsychiatrist: When did it start?\\nPatient: Definitely when I was a kid. Maybe in middle school when assignments started to get more complicated. I’d misread instructions and write a paper that was somehow off topic.\\nPsychiatrist: What about at home? Did you get sidetracked there too?\\nPatient: One time my parents sent me to the grocery store and I came back home with half of the grocery list missing. They stopped sending me to pick things up for them.\\nPsychiatrist: They felt like they couldn’t trust you to see things through.\\nPatient: Yeah…\\nPsychiatrist: You mentioned systems to keep you on task. Why do you need them?\\nPatient: If I’m not careful I could start making a project and never finish because here I’ve started another project and have gotten more interested in the new thing than the old one. I have a few projects that I never could finish and maybe I’ll pick them back up when I have time. My current girlfriend likes to joke that our home is in shambles because of all the remodeling projects we have going on. I start a new project before finishing the old one.\\nPsychiatrist: What about your organizational abilities?\\nPatient: Well I have systems now. I have a calendar and a system of reminders that I put into effect. It prompts me a couple times a day with the day’s goal and the project deadline. But I have to put everything into the calendar. It’s like, if it isn’t in the calendar it doesn’t happen. It definitely played a role in me changing majors in college.\\nPsychiatrist: When did that start to become an issue?\\nPatient: As soon as we started getting homework in school. Maybe second or third grade. Definitely by the time the science fair was a thing. I couldn’t straighten out what I wanted to do or what I needed to do to get it done. And when I had writing assignments like essays I’d just get started and wouldn’t kind of keep track of where I wanted things to go so there would be undeveloped ideas or loose ends.\\nPsychiatrist: Did your parents say anything about it at home?\\nPatient: Maybe when I’d try to go to school and I’d forget my books at home or I’d lose my key to get inside.\\nPsychiatrist: We’ll talk about your forgetfulness and the things you’ve lost in just a bit. Did your parents feel like you did things out of order?\\nPatient: They joked that I’d mop the floor before sweeping up all the dirt. That I was sweeping with the mop. Or when I tried baking a cake once I did some of the steps out of order and it turned out terrible. My mom had to step in and help. I avoid cooking to this day because I hate making a list of what I need, doing the shopping, doing the prep work, doing the cooking, and then doing the cleaning afterwards. I’ll cook but not clean. Then I’ve got dirty dishes next time I want to cook. I spend a lot of money eating out haha.\\nPsychiatrist: That brings me to my next point. Are there things you avoid because the effort just doesn’t seem possible?\\nPatient: When I was a kid I wanted to be an astronaut but it seemed like too much work. I learned in college that there was no way I’d become an engineer because I couldn’t handle the math classes.\\nPsychiatrist: When did you first feel like things were too much work?\\nPatient: I quit my first job working at a sandwich shop because I didn’t want to count money and give people change.\\nPsychiatrist: Anything before then?\\nPatient: Well… I was held back in third grade. Because I put my head down and stopped doing the work my teacher asked me to do.\\nPsychiatrist: Goodness, I’m sorry. That must have felt overwhelming.\\nPatient: It was at the time. But it’s all right now.\\nPsychiatrist: Tell me more about the things you’ve lost over the years. Like physical things.\\nPatient: Jeez. Homework assignments. Action figures. Video games. Magazines. Car keys. I’ve had to pay pop a lock to come get me in my home at least three times. I’ve had to have doors re-keyed at old apartments because we didn’t know where the keys ended up. I’ve lost two phones. One was brand new. I can’t keep air pods around so I have to buy a couple sets at a time. I just let a pair go through the washing machine. If I didn’t have an accountant I don’t know what I would do in a tax audit.\\nPsychiatrist: Some big losses there. You mentioned getting distracted earlier?\\nPatient: Oh totally.\\nPsychiatrist: What kinds of things distract you?\\nPatient: Light and sound. I have to work in a quiet place. A little ambient noise is fine. But I couldn’t ever study in the library in college. And it took years but I learned I couldn’t have music or the TV on while I was studying.\\nPsychiatrist: What about in childhood?\\nPatient: I would always stare out the window in school. Or when we did group projects I’d get us off topic by goofing off with my friends. We couldn’t even sit by each other or we’d get in trouble. The teacher was always calling my mom to let her know.\\nPsychiatrist: What would you say has been the biggest consequence of your distractibility?\\nPatient: Hm… I’m not real sure. There has been a lot. I kind of had to choose a life where I could be distracted without big consequences.\\nPsychiatrist: I see. And what about your forgetfulness in general?\\nPatient: I’ve always been forgetful.\\nPsychiatrist: What’s the first thing you remember?\\nPatient: Probably the homework or bringing things to school. I’d get bad grades for not turning things in. Or be “home at this time” and I’d forget. My parents would remind me over and over. I could tell they were getting pissed off at me. They still remind me about things when I call them and it makes me not want to talk to them on the phone.\\nPsychiatrist: It has kind of colored that relationship in a way.\\nPatient: For sure. I’m always reminded that I’m a person who needs reminders. I wish they’d treat me like a grown up.\\nPsychiatrist: You mentioned your other relationships being affected earlier.\\nPatient: Yeah. I’d forget friends birthdays. I’d forget plans I’d made. Girlfriends have left me and friends have stopped returning my calls.\\n\\n\\n'"
      ]
     },
     "execution_count": 76,
     "metadata": {},
     "output_type": "execute_result"
    }
   ],
   "source": [
    "iprompt1"
   ]
  },
  {
   "cell_type": "code",
   "execution_count": null,
   "metadata": {
    "colab": {
     "base_uri": "https://localhost:8080/",
     "height": 982
    },
    "id": "mHwPVx8OQix7",
    "outputId": "2fb37525-497e-4457-c53c-e1ef22221fd2"
   },
   "outputs": [
    {
     "data": {
      "text/markdown": [
       "> Psychiatrist: Now I’m going to ask about some of your symptoms related to ADHD. Some of these questions sound kind of similar but they point to different aspects of inattention and hyperactivity. Tell me if you think you have the symptom and then tell me about when the symptom began. Then, we’ll get into what the consequences have been for each symptom over the course of your lifetime.\n",
       "> Patient: Okay.\n",
       "> Psychiatrist:  Do you find yourself making careless mistakes often, more so than other people you know?\n",
       "> Patient:  Yeah, I guess so. I’ve always been kind of a messy person.\n",
       "> Psychiatrist:  What’s your earliest memory of this being a problem?\n",
       "> Patient:  Probably in elementary school. I always had messy handwriting.\n",
       "> Psychiatrist:  Did that cause any issues for you?\n",
       "> Patient:  My teachers would always tell me to slow down and be neater, but it didn’t really help.\n",
       "> Psychiatrist:  How did that make you feel?\n",
       "> Patient:  Frustrated, I guess. Like I was trying but it wasn’t good enough.\n",
       "> Psychiatrist:  Did this carelessness extend to things outside of schoolwork?\n",
       "> Patient:  Sometimes. I’d spill things a lot, or break stuff. My mom called me “butterfingers.”\n",
       "> Psychiatrist:  And has this continued into adulthood?\n",
       "> Patient:  I still spill stuff sometimes, and I’ve definitely made mistakes at work because I didn’t read something carefully enough.\n",
       "> Psychiatrist: Can you give me an example from work?\n",
       "> Patient:  Sure. I once sent out a whole batch of client emails with the wrong date on them. It was embarrassing.\n",
       "> Psychiatrist: How did that impact your work or relationships?\n",
       "> Patient:  My boss wasn’t happy. And my coworkers make fun of me sometimes, they call me “the bull in the china shop.”  It’s not meant to be mean, but it doesn’t feel great.\n",
       "> Psychiatrist:  Okay, let’s move on. Do you often have difficulty sustaining attention in tasks or play activities?\n",
       "> Patient:  I get bored easily. Is that the same thing?\n",
       "> Psychiatrist:  It can be related, but what I’m asking is whether you find it hard to keep your mind on something, even if you want to.\n",
       "> Patient:  Yeah, I think so. Like, I’ll start a project and then my mind wanders and I end up doing something else.\n",
       "> Psychiatrist:  When did you first notice that?\n",
       "> Patient:  Probably in high school. I’d have trouble finishing homework assignments because I’d get distracted.\n",
       "> Psychiatrist:  Do you remember any specific examples from childhood?\n",
       "> Patient:  Not really. I just remember not liking school very much.\n",
       "> Psychiatrist:  And what about now? How does this affect you as an adult?\n",
       "> Patient:  I have a lot of unfinished projects around the house. My wife gets annoyed with me because I start things and never finish them.\n",
       "> Psychiatrist:  Can you give me some examples of projects?\n",
       "> Patient:  Well, I started building a shed in the backyard a few months ago. It's still not done. I started painting the bathroom. Got half way done and never finished. Oh! I tried fixing the screen door too. That fell apart pretty quickly.\n",
       "> Psychiatrist: Do you have difficulty focusing when people are talking to you?  Like, do you find yourself zoning out even when someone is speaking directly to you?\n",
       "> Patient:  Sometimes. Especially if it’s something boring.\n",
       "> Psychiatrist:  When do you remember this being an issue?\n",
       "> Patient:  I don’t know… maybe in college?  I’d miss things in lectures and then have to borrow notes from someone.\n",
       "> Psychiatrist:  Did it cause problems in your relationships?\n",
       "> Patient:  Yeah, my girlfriend used to get mad at me because she’d say I wasn’t listening to her.\n",
       "> Psychiatrist:  And do you think that was accurate?\n",
       "> Patient:  I guess so. I’d be thinking about other things while she was talking, and then I wouldn’t remember what she said.\n",
       "> Psychiatrist: Can you think of a specific instance when this happened?\n",
       "> Patient:  One time she asked me to pick up her dry cleaning and I totally forgot. She was furious.\n",
       "> Psychiatrist: What about following through on instructions? Do you have difficulty with that?\n",
       "> Patient:  Sometimes. If there are too many steps, I get confused.\n",
       "> Psychiatrist:  When did you first notice that?\n",
       "> Patient:  Probably when I was a kid. I’d have trouble assembling things, like model airplanes or Lego sets.\n",
       "> Psychiatrist:  Did that cause any problems at home?\n",
       "> Patient:  My dad would get frustrated with me because I couldn’t follow the directions. He'd end up doing it for me.\n",
       "> Psychiatrist: And how about now? Does that still happen?\n",
       "> Patient:  Yeah, sometimes at work. If my boss gives me a complicated task, I have to ask her to explain it multiple times.\n",
       "> Psychiatrist: What about organization?  Do you have difficulty organizing tasks and activities?\n",
       "> Patient:  I’m not a very organized person, no. My desk is always a mess.\n",
       "> Psychiatrist:  When did that start to be a problem?\n",
       "> Patient:  Probably in middle school. I’d lose papers, forget to bring my books to class. It was stressful.\n",
       "> Psychiatrist:  Did your parents try to help you get organized?\n",
       "> Patient:  Yeah, my mom would try to help me clean my room, but it would just get messy again a few days later.\n",
       "> Psychiatrist: And in adulthood?  How has this played out?\n",
       "> Patient:  I’m always losing things. My keys, my phone, my wallet. It drives me crazy. And I miss deadlines sometimes because I don't keep track of when things are due.\n",
       "> Psychiatrist: How does that impact you?\n",
       "> Patient:  I get stressed out and feel like I'm always scrambling to catch up.\n",
       "> Psychiatrist:  Do you often avoid or dislike tasks that require sustained mental effort?\n",
       "> Patient:  Yeah, definitely. Like, I hate doing my taxes.\n",
       "> Psychiatrist:  When did you first notice that aversion?\n",
       "> Patient:  I guess in high school I started to realize I really didn't like doing homework. Or chores for that matter.\n",
       "> Psychiatrist: Was there something before high school?\n",
       "> Patient:  I don’t know… I just remember always trying to get out of doing things I didn’t want to do.\n",
       "> Psychiatrist:  And how about as an adult?  What kinds of things do you avoid?\n",
       "> Patient:  Anything with a lot of paperwork. Or things that require a lot of attention to detail. I’d rather just pay someone else to do it.\n",
       "> Psychiatrist:  Like what?\n",
       "> Patient:  Like, I hire an accountant to do my taxes. And I’d rather pay someone to assemble furniture than do it myself.\n",
       "> Psychiatrist:  Do you frequently lose things necessary for tasks or activities?  We’ve touched on this but I want to come back to it.\n",
       "> Patient:  All the time. Keys, phone, wallet… I mentioned that. I also lose documents, emails… you name it.\n",
       "> Psychiatrist:  When did that start?\n",
       "> Patient:  As long as I can remember. I was always losing my toys as a kid.\n",
       "> Psychiatrist:  Did it cause problems in school?\n",
       "> Patient:  Yeah, I’d lose homework assignments, or forget to bring my gym clothes.\n",
       "> Psychiatrist:  And now?  What’s the impact been?\n",
       "> Patient:  It’s frustrating and time-consuming. I waste a lot of time looking for things. And I’ve had to replace things, like my phone and keys, multiple times.\n",
       "> Psychiatrist:  Are you easily distracted by extraneous stimuli?\n",
       "> Patient:  Yes! Very much so.\n",
       "> Psychiatrist:  What kinds of things distract you?\n",
       "> Patient:  Noise mostly. But also movement, or things happening around me. I can’t concentrate if there’s too much going on.\n",
       "> Psychiatrist:  When did you first notice that?\n",
       "> Patient:  I guess in elementary school. I had a hard time focusing in class if the other kids were talking or moving around.\n",
       "> Psychiatrist: Did the teachers ever comment on this?\n",
       "> Patient: Yeah, they would tell me to pay attention or stop looking around.\n",
       "> Psychiatrist:  And what about now?  How does this distractibility affect your life?\n",
       "> Patient:  I have a hard time working in an open office environment. I need a quiet space to focus. And I get distracted easily when I’m driving.\n",
       "> Psychiatrist:  Finally, are you often forgetful in daily activities?\n",
       "> Patient:  Yeah, I forget things all the time.\n",
       "> Psychiatrist: What’s the first thing you remember forgetting?\n",
       "> Patient:  Probably chores my parents asked me to do. I’d get distracted and forget to do them, and then they’d get mad at me.\n",
       "> Psychiatrist:  And how about now?  What kinds of things do you forget"
      ],
      "text/plain": [
       "<IPython.core.display.Markdown object>"
      ]
     },
     "execution_count": 77,
     "metadata": {},
     "output_type": "execute_result"
    }
   ],
   "source": [
    "response = model.generate_content(iprompt1)\n",
    "to_markdown(response.text)"
   ]
  },
  {
   "cell_type": "markdown",
   "metadata": {
    "id": "W-DKkgnNSNcF"
   },
   "source": [
    "### Approach II : qualitative and quantitative analysis prompt"
   ]
  },
  {
   "cell_type": "code",
   "execution_count": 12,
   "metadata": {
    "id": "rHclWiQUSbBp"
   },
   "outputs": [],
   "source": [
    "iprompt2 = f'''\n",
    "You are a psychiatrist working in an outpatient practice setting, where you specialize in\n",
    "the evaluation and treatment of ADHD and co-occurring psychiatric disorders in adults.\n",
    "You are familiar with DSM-5 criteria for ADHD, anxiety disorders, substance use disorders,\n",
    " and personality disorders. You are also proficient in analyzing interview transcripts for\n",
    "  explicit content, underlying psychological themes, and patient response behavior.\n",
    "\n",
    "Your task is to detect behavioral evidence of common ADHD symptoms in a clinical transcript\n",
    "where another psychiatrist is interviewing a patient asking about the common symptoms of\n",
    "inattentive behavior. You when the patient pays poor attention to details of the question\n",
    "they are answered. You notice if the patient has trouble sustaining focus when they reply\n",
    "to the psychiatrist. You notice when the psychiatrist gives the patient feedback about their\n",
    "inattention in the context of the interview, for example when the patient fails to answer\n",
    "a question or gets distracted. You notice when the patient seems to avoid answering questions.\n",
    "\n",
    "Transcript:\n",
    "{transcript_str}\n",
    "\n",
    "Output:\n",
    "\n",
    "- Qualitative Assessment:\n",
    "1- Summarize the content of the patient’s symptom of inattention to detail, then summarize the patient’s behavioral evidence of inattention to detail evident in the transcript.\n",
    "2- Summarize the content of the patient’s symptom of poor focus, then summarize the patient’s behavioral evidence of poor focus evident in the transcript.\n",
    "3- Summarize the content of the patient’s difficulty listening to others when being spoken to directly, then summarize the patient’s behavioral evidence of poor listening in the transcript.\n",
    "4- Summarize the content of the patient’s symptom of inability to complete tasks, then summarize the patient’s behavioral evidence of poor task completion in the transcript.\n",
    "5- Summarize the content of the patient’s symptom of poor organizational abilities, then summarize the patient’s behavioral evidence of poor organization in the transcript.\n",
    "6- Summarize the content of the patient’s symptom of avoiding difficult tasks or tasks requiring sustained focus, then summarize the patient’s behavioral evidence of avoidance in the transcript.\n",
    "7- Summarize the content of the patient’s symptom of frequently losing their belongings, then summarize the patient’s behavioral evidence of losing physical objects in the transcript.\n",
    "8- Summarize the content of the patient’s symptom of distractibility, then summarize the patient’s behavioral evidence of distractibility in the transcript.\n",
    "9- Summarize the content of the patient’s symptom of forgetfulness, then summarize the patient’s behavioral evidence of forgetfulness in the transcript.\n",
    "\n",
    "- Quantitative Assessment:\n",
    "1- For each inattentive symptom, count how many times the psychiatrist must ask the patient whether or not they have the symptom. This is the *has_score*.\n",
    "2- For each inattentive symptom, score one point if the patient is able to explain when the symptom began. This is the *start_score*. Then count the number of times the psychiatrist had to ask the patient when the symptom began before the patient answers fully. This is the *start_score_queued*.\n",
    "3- For each inattentive symptom, score one point if the patient is able to explain the way a symptom has significantly impacted their life. This is the *significance_score*. Then, count the number of times the psychiatrist had to ask the patient before the patient answers fully. This is the *significance_score_queued*.\n",
    "\n",
    "'''\n"
   ]
  },
  {
   "cell_type": "code",
   "execution_count": 13,
   "metadata": {
    "colab": {
     "base_uri": "https://localhost:8080/",
     "height": 143
    },
    "id": "oO3XxVlqTd4f",
    "outputId": "994d286e-9b67-42a9-8127-f6938a650bd8"
   },
   "outputs": [
    {
     "data": {
      "application/vnd.google.colaboratory.intrinsic+json": {
       "type": "string"
      },
      "text/plain": [
       "'\\nYou are a psychiatrist working in an outpatient practice setting, where you specialize in\\nthe evaluation and treatment of ADHD and co-occurring psychiatric disorders in adults.\\nYou are familiar with DSM-5 criteria for ADHD, anxiety disorders, substance use disorders,\\n and personality disorders. You are also proficient in analyzing interview transcripts for\\n  explicit content, underlying psychological themes, and patient response behavior.\\n\\nYour task is to detect behavioral evidence of common ADHD symptoms in a clinical transcript\\nwhere another psychiatrist is interviewing a patient asking about the common symptoms of\\ninattentive behavior. You when the patient pays poor attention to details of the question\\nthey are answered. You notice if the patient has trouble sustaining focus when they reply\\nto the psychiatrist. You notice when the psychiatrist gives the patient feedback about their\\ninattention in the context of the interview, for example when the patient fails to answer\\na question or gets distracted. You notice when the patient seems to avoid answering questions.\\n\\nTranscript:\\nPsychiatrist: Now I’m going to ask about some of your symptoms related to ADHD. Some of these questions sound kind of similar but they point to different aspects of inattention and hyperactivity. Tell me if you think you have the symptom and then tell me about when the symptom began. Then, we’ll get into what the consequences have been for each symptom over the course of your lifetime.\\nPatient: Sure.\\nPsychiatrist: Do you feel like you struggle with attention to details compared to other people?\\nPatient: Oh yeah haha that has been my whole life…\\nPsychiatrist: What was your earliest memory of this issue?\\nPatient: I guess probably third grade.\\nPsychiatrist: What was happening then?\\nPatient: I kept making mistakes on my math homework.\\nPsychiatrist: Did these culminate in any consequences for you?\\nPatient: My parents had to hire a tutor.\\nPsychiatrist: How was this discussed by the family?\\nPatient: I mean… my mom and dad were frustrated with me.\\nPsychiatrist: Was your attention to detail an issue at home too?\\nPatient: I guess when I’d do chores like clean my room I’d do a bad job and then sometimes they would make me go back and do it again.\\nPsychiatrist: What about over the years? Has the problem continued?\\nPatient: I had to drop three classes in college and eventually change my major. I didn’t want to study math or foreign language. So I got into visual art and design.\\nPsychiatrist: Did the symptom follow you into your career? Or your relationships?\\nPatient: I make commissioned projects but I have a lot of autonomy in how they come out. People know how my art looks and they kind of want things to look that way. So they give me a few details but not many and then I kind of let the project go where it goes. I guess I misspell things in emails.\\nPsychiatrist: And your relationships?\\nPatient: I’ve had friendships end because I couldn’t remember peoples’ birthdays.\\nPsychiatrist: We’ll talk about forgetfulness in a moment. Right now we’re talking about what you notice or don’t notice causing issues in your life.\\nPatient: I’d have to think about it more… I don’t know.\\nPsychiatrist: All right. Let’s talk about your ability to focus. Are you able to focus your attention when you need to?\\nPatient: I get distracted like all the time.\\nPsychiatrist: We will talk about distractibility separately. I know this feels like a similar problem, but what I’m wondering is essentially, when you’re supposed to be paying attention it gets difficult. Maybe you notice feeling strained.\\nPatient: Oh yeah, I couldn’t focus to save my life.\\nPsychiatrist: When did you first notice that?\\nPatient: I guess in college. When I was taking classes that I ended up having to drop.\\nPsychiatrist: Did you have the symptom in childhood?\\nPatient: I don’t know. Probably…\\nPsychiatrist: Does anything come to mind?\\nPatient: I’d have to think about it more.\\nPsychiatrist: What about after college? In your career or relationships?\\nPatient: I work discontinuously. I have a schedule where I start working in the morning making visual art and I kind of work until I get bored then I stop. I guess I get behind submitting my projects to galleries. I don’t know about my relationships.\\nPsychiatrist: Are you able to sustain focus on other things? Like movies? Or outdoor activities?\\nPatient: Sometimes. I have to stop movies halfway through a lot.\\nPsychiatrist: What about when people are speaking to you directly? Does anyone ever say you don’t listen to them?\\nPatient: My parents have been saying that to me my whole life.\\nPsychiatrist: When do you remember it starting?\\nPatient: I definitely remember my parents saying that. I’m not sure what it was about.\\nPsychiatrist: Did it cause any problems in school?\\nPatient: I think so but I can’t point to anything for sure.\\nPsychiatrist: What about in your relationships?\\nPatient: I’ve had girlfriends break up with me because they thought I was too wrapped up in my career. They’ve said I was unavailable.\\nPsychiatrist: Was there anything you missed because you were a poor listener?\\nPatient: Yes.\\nPsychiatrist: Like what?\\nPatient: I didn’t remember one girlfriend’s plans. I was supposed to join her for a banquet but apparently I forgot. It was like we had never even spoken about it. She swore she told me. But I planned a trip I didn’t want to cancel.\\nPsychiatrist: What about starting and completing tasks? Are you able to kind of get started and then follow through on things?\\nPatient: I have developed some systems of reminders over the years to help me get through my projects at work but this is why. Yes. It has been a real problem.\\nPsychiatrist: When did it start?\\nPatient: Definitely when I was a kid. Maybe in middle school when assignments started to get more complicated. I’d misread instructions and write a paper that was somehow off topic.\\nPsychiatrist: What about at home? Did you get sidetracked there too?\\nPatient: One time my parents sent me to the grocery store and I came back home with half of the grocery list missing. They stopped sending me to pick things up for them.\\nPsychiatrist: They felt like they couldn’t trust you to see things through.\\nPatient: Yeah…\\nPsychiatrist: You mentioned systems to keep you on task. Why do you need them?\\nPatient: If I’m not careful I could start making a project and never finish because here I’ve started another project and have gotten more interested in the new thing than the old one. I have a few projects that I never could finish and maybe I’ll pick them back up when I have time. My current girlfriend likes to joke that our home is in shambles because of all the remodeling projects we have going on. I start a new project before finishing the old one.\\nPsychiatrist: What about your organizational abilities?\\nPatient: Well I have systems now. I have a calendar and a system of reminders that I put into effect. It prompts me a couple times a day with the day’s goal and the project deadline. But I have to put everything into the calendar. It’s like, if it isn’t in the calendar it doesn’t happen. It definitely played a role in me changing majors in college.\\nPsychiatrist: When did that start to become an issue?\\nPatient: As soon as we started getting homework in school. Maybe second or third grade. Definitely by the time the science fair was a thing. I couldn’t straighten out what I wanted to do or what I needed to do to get it done. And when I had writing assignments like essays I’d just get started and wouldn’t kind of keep track of where I wanted things to go so there would be undeveloped ideas or loose ends.\\nPsychiatrist: Did your parents say anything about it at home?\\nPatient: Maybe when I’d try to go to school and I’d forget my books at home or I’d lose my key to get inside.\\nPsychiatrist: We’ll talk about your forgetfulness and the things you’ve lost in just a bit. Did your parents feel like you did things out of order?\\nPatient: They joked that I’d mop the floor before sweeping up all the dirt. That I was sweeping with the mop. Or when I tried baking a cake once I did some of the steps out of order and it turned out terrible. My mom had to step in and help. I avoid cooking to this day because I hate making a list of what I need, doing the shopping, doing the prep work, doing the cooking, and then doing the cleaning afterwards. I’ll cook but not clean. Then I’ve got dirty dishes next time I want to cook. I spend a lot of money eating out haha.\\nPsychiatrist: That brings me to my next point. Are there things you avoid because the effort just doesn’t seem possible?\\nPatient: When I was a kid I wanted to be an astronaut but it seemed like too much work. I learned in college that there was no way I’d become an engineer because I couldn’t handle the math classes.\\nPsychiatrist: When did you first feel like things were too much work?\\nPatient: I quit my first job working at a sandwich shop because I didn’t want to count money and give people change.\\nPsychiatrist: Anything before then?\\nPatient: Well… I was held back in third grade. Because I put my head down and stopped doing the work my teacher asked me to do.\\nPsychiatrist: Goodness, I’m sorry. That must have felt overwhelming.\\nPatient: It was at the time. But it’s all right now.\\nPsychiatrist: Tell me more about the things you’ve lost over the years. Like physical things.\\nPatient: Jeez. Homework assignments. Action figures. Video games. Magazines. Car keys. I’ve had to pay pop a lock to come get me in my home at least three times. I’ve had to have doors re-keyed at old apartments because we didn’t know where the keys ended up. I’ve lost two phones. One was brand new. I can’t keep air pods around so I have to buy a couple sets at a time. I just let a pair go through the washing machine. If I didn’t have an accountant I don’t know what I would do in a tax audit.\\nPsychiatrist: Some big losses there. You mentioned getting distracted earlier?\\nPatient: Oh totally.\\nPsychiatrist: What kinds of things distract you?\\nPatient: Light and sound. I have to work in a quiet place. A little ambient noise is fine. But I couldn’t ever study in the library in college. And it took years but I learned I couldn’t have music or the TV on while I was studying.\\nPsychiatrist: What about in childhood?\\nPatient: I would always stare out the window in school. Or when we did group projects I’d get us off topic by goofing off with my friends. We couldn’t even sit by each other or we’d get in trouble. The teacher was always calling my mom to let her know.\\nPsychiatrist: What would you say has been the biggest consequence of your distractibility?\\nPatient: Hm… I’m not real sure. There has been a lot. I kind of had to choose a life where I could be distracted without big consequences.\\nPsychiatrist: I see. And what about your forgetfulness in general?\\nPatient: I’ve always been forgetful.\\nPsychiatrist: What’s the first thing you remember?\\nPatient: Probably the homework or bringing things to school. I’d get bad grades for not turning things in. Or be “home at this time” and I’d forget. My parents would remind me over and over. I could tell they were getting pissed off at me. They still remind me about things when I call them and it makes me not want to talk to them on the phone.\\nPsychiatrist: It has kind of colored that relationship in a way.\\nPatient: For sure. I’m always reminded that I’m a person who needs reminders. I wish they’d treat me like a grown up.\\nPsychiatrist: You mentioned your other relationships being affected earlier.\\nPatient: Yeah. I’d forget friends birthdays. I’d forget plans I’d made. Girlfriends have left me and friends have stopped returning my calls.\\n\\n\\nOutput:\\n\\n- Qualitative Assessment:\\n1- Summarize the content of the patient’s symptom of inattention to detail, then summarize the patient’s behavioral evidence of inattention to detail evident in the transcript.\\n2- Summarize the content of the patient’s symptom of poor focus, then summarize the patient’s behavioral evidence of poor focus evident in the transcript.\\n3- Summarize the content of the patient’s difficulty listening to others when being spoken to directly, then summarize the patient’s behavioral evidence of poor listening in the transcript.\\n4- Summarize the content of the patient’s symptom of inability to complete tasks, then summarize the patient’s behavioral evidence of poor task completion in the transcript.\\n5- Summarize the content of the patient’s symptom of poor organizational abilities, then summarize the patient’s behavioral evidence of poor organization in the transcript.\\n6- Summarize the content of the patient’s symptom of avoiding difficult tasks or tasks requiring sustained focus, then summarize the patient’s behavioral evidence of avoidance in the transcript.\\n7- Summarize the content of the patient’s symptom of frequently losing their belongings, then summarize the patient’s behavioral evidence of losing physical objects in the transcript.\\n8- Summarize the content of the patient’s symptom of distractibility, then summarize the patient’s behavioral evidence of distractibility in the transcript.\\n9- Summarize the content of the patient’s symptom of forgetfulness, then summarize the patient’s behavioral evidence of forgetfulness in the transcript.\\n\\n- Quantitative Assessment:**\\n1- For each inattentive symptom, count how many times the psychiatrist must ask the patient whether or not they have the symptom. This is the *has_score*.\\n2- For each inattentive symptom, score one point if the patient is able to explain when the symptom began. This is the *start_score*. Then count the number of times the psychiatrist had to ask the patient when the symptom began before the patient answers fully. This is the *start_score_queued*.\\n3- For each inattentive symptom, score one point if the patient is able to explain the way a symptom has significantly impacted their life. This is the *significance_score*. Then, count the number of times the psychiatrist had to ask the patient before the patient answers fully. This is the *significance_score_queued*.\\n\\n'"
      ]
     },
     "execution_count": 13,
     "metadata": {},
     "output_type": "execute_result"
    }
   ],
   "source": [
    "iprompt2"
   ]
  },
  {
   "cell_type": "code",
   "execution_count": 14,
   "metadata": {
    "colab": {
     "base_uri": "https://localhost:8080/",
     "height": 1000
    },
    "id": "07Jyz4LzTh9Z",
    "outputId": "c5c4d5cd-e327-45d0-fccd-842eeaf94a80"
   },
   "outputs": [
    {
     "data": {
      "text/markdown": [
       "> Absolutely! Here's an analysis of the transcript, focusing on behavioral evidence of ADHD inattentive symptoms, following the format you requested:\n",
       "> \n",
       "> **Qualitative Assessment:**\n",
       "> \n",
       "> **1. Inattention to Detail:**\n",
       "> \n",
       "> *   **Content:** The patient reports a lifelong struggle with attention to detail, manifesting in mistakes on math homework, poor quality of chores, misspellings in emails, and a general lack of precision in commissioned art projects.\n",
       "> *   **Behavioral Evidence:** The patient initially laughs off the question (\"Oh yeah haha that has been my whole life…\"), suggesting a possible minimization or discomfort with the issue. He vaguely answers questions about how this has affected him and does not give any specific examples in childhood, his career, or relationships until pressed by the psychiatrist for more specific information about how not paying attention to detail has affected his relationships.\n",
       "> \n",
       "> **2. Poor Focus:**\n",
       "> \n",
       "> *   **Content:** The patient states he gets distracted easily and has trouble focusing when he needs to, going back to college when he had to drop classes due to lack of focus.\n",
       "> *   **Behavioral Evidence:**\n",
       ">     *   The patient seems to misunderstand the question initially, equating difficulty focusing with distractibility. This suggests a blurring of these concepts.\n",
       ">     *   He vaguely reports “I couldn’t focus to save my life.” without being able to explain when this symptom began.\n",
       ">     *   He is unable to recall when this symptom began in childhood, answering “I don’t know. Probably…”\n",
       ">     *   When asked what he noticed in adulthood, the patient describes only a pattern of discontinuous work. This is not responsive to the question, but suggests the patient works for a period of time, loses focus and stops working.\n",
       "> \n",
       "> **3. Difficulty Listening:**\n",
       "> \n",
       "> *   **Content:** The patient reports a history of not listening to others, a complaint raised by his parents since childhood and by former girlfriends.\n",
       "> *   **Behavioral Evidence:**\n",
       ">     *   The patient immediately brings up the fact that his parents have complained about him not listening, seemingly avoiding responsibility for the behavior.\n",
       ">     *   He struggles to recall specific instances of not listening until prompted, and then focuses on an example where he is not at fault, saying that an ex-girlfriend “swore she told me” about a banquet but the patient planned a trip at the same time.\n",
       "> \n",
       "> **4. Inability to Complete Tasks:**\n",
       "> \n",
       "> *   **Content:** The patient reports difficulties starting and completing tasks since childhood, leading to incomplete school assignments and work projects.\n",
       "> *   **Behavioral Evidence:**  He clearly admits \"It has been a real problem.\" The patient mentions developing reminder systems, indicating awareness of the issue and attempts to compensate. He describes a current pattern of starting multiple remodeling projects without finishing them. He also describes an early example of being sent to the grocery store without completing the task and was never sent again.\n",
       "> \n",
       "> **5. Poor Organizational Abilities:**\n",
       "> \n",
       "> *   **Content:** The patient acknowledges organizational challenges, describing difficulties sequencing tasks and keeping track of assignments, projects and personal belongings.\n",
       "> *   **Behavioral Evidence:** He emphasizes reliance on external systems (calendar, reminders) to function, stating, \"if it isn't in the calendar it doesn't happen.\" He vividly recalls childhood difficulties with tasks like the science fair and essay writing, where he couldn't sequence steps or maintain a coherent structure.\n",
       "> \n",
       "> **6. Avoiding Difficult Tasks/Sustained Focus:**\n",
       "> \n",
       "> *   **Content:** The patient admits avoiding tasks he perceives as too much work or requiring sustained effort, such as becoming an engineer or doing a job that requires him to count money.\n",
       "> *   **Behavioral Evidence:** He describes quitting a job because he didn't want to handle money, avoiding cooking due to the multi-step process, and even being held back in third grade after becoming overwhelmed.\n",
       "> \n",
       "> **7. Losing Belongings:**\n",
       "> \n",
       "> *   **Content:** The patient has a history of losing various items, including homework, keys, phones, and even AirPods.\n",
       "> *   **Behavioral Evidence:** He readily provides a long list of lost items, highlighting the frequency and significance of this issue. His statement about needing an accountant for tax audits further underscores the extent of his disorganization.\n",
       "> \n",
       "> **8. Distractibility:**\n",
       "> \n",
       "> *   **Content:** The patient reports being highly distractible, particularly by light and sound, and admits to choosing a career where this is less of an issue.\n",
       "> *   **Behavioral Evidence:** He provides specific examples of how he manages his environment to minimize distractions, like working in a quiet place without music or TV. He also recounts childhood experiences of being distracted in class and disrupting group projects.\n",
       "> \n",
       "> **9. Forgetfulness:**\n",
       "> \n",
       "> *   **Content:** The patient describes a pervasive pattern of forgetfulness, affecting homework, appointments, plans, and relationships.\n",
       "> *   **Behavioral Evidence:** He immediately acknowledges his forgetfulness, stating \"I've always been forgetful.\" He connects his forgetfulness to strained relationships with his parents, who constantly remind him of things, and to lost friendships and romantic relationships.\n",
       "> \n",
       "> **Quantitative Assessment:**\n",
       "> \n",
       "> | Symptom                       | has\\_score | start\\_score | start\\_score\\_queued | significance\\_score | significance\\_score\\_queued |\n",
       "> | :---------------------------- | :--------: | :----------: | :------------------: | :----------------: | :------------------------: |\n",
       "> | 1. Inattention to Detail     |     1      |      1       |          0           |          1           |             2              |\n",
       "> | 2. Poor Focus                 |     1      |      1       |          2           |          1           |             1              |\n",
       "> | 3. Difficulty Listening       |     1      |      1       |          1           |          1           |             2              |\n",
       "> | 4. Inability to Complete Tasks |     1      |      1       |          0           |          1           |             0              |\n",
       "> | 5. Poor Organizational Skills |     1      |      1       |          0           |          1           |             0              |\n",
       "> | 6. Avoidance of Tasks         |     1      |      1       |          1           |          1           |             1              |\n",
       "> | 7. Losing Belongings          |     1      |      1       |          0           |          1           |             0              |\n",
       "> | 8. Distractibility            |     1      |      1       |          0           |          1           |             1              |\n",
       "> | 9. Forgetfulness              |     1      |      1       |          0           |          1           |             1              |\n",
       "> \n",
       "> **Explanation of Scores:**\n",
       "> \n",
       "> *   **has\\_score:** The psychiatrist had to directly ask about the presence of each symptom only once to get the patient to confirm they experience the symptom.\n",
       "> *   **start\\_score:** The patient was able to eventually identify when each symptom began, scoring one point for each.\n",
       "> *   **start\\_score\\_queued:**\n",
       ">     *   For Poor Focus, the psychiatrist had to ask when the symptom started three times before the patient was able to respond (I don’t know. Probably... I’d have to think about it more). Therefore the start\\_score\\_queued is 2.\n",
       ">     *   For Difficulty Listening, the psychiatrist had to ask when the symptom started twice before the patient was able to respond (I definitely remember my parents saying that. I’m not sure what it was about). Therefore the start\\_score\\_queued is 1.\n",
       ">     *   For Avoidance of Tasks, the psychiatrist had to ask when the symptom started twice before the patient gave an answer in childhood (I quit my first job... I was held back in third grade). Therefore the start\\_score\\_queued is 1.\n",
       ">     *   For the remaining symptoms, the psychiatrist had to ask about the start of the symptom only once.\n",
       "> *   **significance\\_score:** The patient was able to eventually identify how each symptom has significantly impacted their life.\n",
       "> *   **significance\\_score\\_queued:**\n",
       ">     *   For Inattention to Detail, the patient gave an example of having to change college majors. When the psychiatrist prompted further, the patient struggled to provide other examples. The psychiatrist had to prompt three times (Did the symptom follow you into your career? Or your relationships?... And your relationships?... We’ll talk about forgetfulness in a moment. Right now we’re talking about what you notice or don’t notice causing issues in your life) before he gave other examples of how inattention to detail had a negative impact on his life. Therefore the significance\\_score\\_queued is 2.\n",
       ">     *   For Poor Focus, the psychiatrist had to ask a second question about whether the patient could focus on movies or other activities before he responded with work and relationship difficulties. Therefore the significance\\_score\\_queued is 1.\n",
       ">     *   For Difficulty Listening, the patient mentions problems with parents and ex-girlfriends, but struggles to give specific examples until the psychiatrist probes two additional times (Did it cause any problems in school?... What about in your relationships?... What was there anything you missed because you were a poor listener?). Therefore the significance\\_score\\_queued is 2.\n",
       ">     *   For Avoidance of Tasks, the patient needed one additional prompt to identify that he was held back in school. Therefore the significance\\_score\\_queued is 1.\n",
       ">     *    For Distractibility, the patient needed one additional prompt before saying he chose a career path that was less demanding (What would you say has been the biggest consequence of your distractibility?). Therefore the significance\\_score\\_queued is 1.\n",
       ">         *    For Forgetfulness, the patient needed one additional prompt to give examples of when he forgot things and how it has negatively affected his relationships (What's the first thing you remember?..."
      ],
      "text/plain": [
       "<IPython.core.display.Markdown object>"
      ]
     },
     "execution_count": 14,
     "metadata": {},
     "output_type": "execute_result"
    }
   ],
   "source": [
    "responsei2 = model.generate_content(iprompt2)\n",
    "to_markdown(responsei2.text)"
   ]
  }
 ],
 "metadata": {
  "accelerator": "GPU",
  "colab": {
   "gpuType": "T4",
   "provenance": []
  },
  "kernelspec": {
   "display_name": "Python 3",
   "name": "python3"
  },
  "language_info": {
   "name": "python"
  }
 },
 "nbformat": 4,
 "nbformat_minor": 0
}
